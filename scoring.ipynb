{
  "nbformat": 4,
  "nbformat_minor": 0,
  "metadata": {
    "colab": {
      "provenance": [],
      "machine_shape": "hm",
      "gpuType": "T4",
      "authorship_tag": "ABX9TyPC/ihwmWecT1zgoTmbCSf+",
      "include_colab_link": true
    },
    "kernelspec": {
      "name": "python3",
      "display_name": "Python 3"
    },
    "language_info": {
      "name": "python"
    },
    "accelerator": "GPU"
  },
  "cells": [
    {
      "cell_type": "markdown",
      "metadata": {
        "id": "view-in-github",
        "colab_type": "text"
      },
      "source": [
        "<a href=\"https://colab.research.google.com/github/SAIKUMAR500/math/blob/main/scoring.ipynb\" target=\"_parent\"><img src=\"https://colab.research.google.com/assets/colab-badge.svg\" alt=\"Open In Colab\"/></a>"
      ]
    },
    {
      "cell_type": "code",
      "source": [
        "! pip install openai\n",
        "import os\n",
        "OPENAI_API_KEY=\"OPENAI_API_KEY\"\n",
        "\n",
        "#from google.colab import userdata\n",
        "#OPENAI_API_KEY = userdata.get('OPENAI_API_KEY')\n",
        "\n",
        "from openai import OpenAI\n",
        "# Instead of using os.environ, directly use the OPENAI_API_KEY variable you defined\n",
        "client = OpenAI(api_key=OPENAI_API_KEY)\n",
        "\n",
        "\n",
        "Title = \"DeepSeek Panic Live Updates: Nvidia Stock Makes History ...\"\n",
        "Link = \"https://www.forbes.com/sites/dereksaul/2025/01/28/deepseek-panic-live-updates-nvidia-stock-makes-history-again-with-260-billion-rebound/\"\n",
        "\n",
        "Title = \"NVIDIA Corp. Stock Quote (U.S.: Nasdaq) - NVDA\"\n",
        "Link = \"https://www.marketwatch.com/investing/stock/nvda\"\n",
        "\n",
        "Title = \"NASDAQ:NVDA Stock Price - Nvidia - TradingView\"\n",
        "\"\"\"\n",
        "\n",
        "\n",
        "\"\"\""
      ],
      "metadata": {
        "colab": {
          "base_uri": "https://localhost:8080/",
          "height": 323
        },
        "id": "DdoDN4jqhfk7",
        "outputId": "dbcdb445-50d8-4519-f37e-617749d6f43e"
      },
      "execution_count": 1,
      "outputs": [
        {
          "output_type": "stream",
          "name": "stdout",
          "text": [
            "Requirement already satisfied: openai in /usr/local/lib/python3.11/dist-packages (1.61.1)\n",
            "Requirement already satisfied: anyio<5,>=3.5.0 in /usr/local/lib/python3.11/dist-packages (from openai) (3.7.1)\n",
            "Requirement already satisfied: distro<2,>=1.7.0 in /usr/local/lib/python3.11/dist-packages (from openai) (1.9.0)\n",
            "Requirement already satisfied: httpx<1,>=0.23.0 in /usr/local/lib/python3.11/dist-packages (from openai) (0.28.1)\n",
            "Requirement already satisfied: jiter<1,>=0.4.0 in /usr/local/lib/python3.11/dist-packages (from openai) (0.8.2)\n",
            "Requirement already satisfied: pydantic<3,>=1.9.0 in /usr/local/lib/python3.11/dist-packages (from openai) (2.10.6)\n",
            "Requirement already satisfied: sniffio in /usr/local/lib/python3.11/dist-packages (from openai) (1.3.1)\n",
            "Requirement already satisfied: tqdm>4 in /usr/local/lib/python3.11/dist-packages (from openai) (4.67.1)\n",
            "Requirement already satisfied: typing-extensions<5,>=4.11 in /usr/local/lib/python3.11/dist-packages (from openai) (4.12.2)\n",
            "Requirement already satisfied: idna>=2.8 in /usr/local/lib/python3.11/dist-packages (from anyio<5,>=3.5.0->openai) (3.10)\n",
            "Requirement already satisfied: certifi in /usr/local/lib/python3.11/dist-packages (from httpx<1,>=0.23.0->openai) (2025.1.31)\n",
            "Requirement already satisfied: httpcore==1.* in /usr/local/lib/python3.11/dist-packages (from httpx<1,>=0.23.0->openai) (1.0.7)\n",
            "Requirement already satisfied: h11<0.15,>=0.13 in /usr/local/lib/python3.11/dist-packages (from httpcore==1.*->httpx<1,>=0.23.0->openai) (0.14.0)\n",
            "Requirement already satisfied: annotated-types>=0.6.0 in /usr/local/lib/python3.11/dist-packages (from pydantic<3,>=1.9.0->openai) (0.7.0)\n",
            "Requirement already satisfied: pydantic-core==2.27.2 in /usr/local/lib/python3.11/dist-packages (from pydantic<3,>=1.9.0->openai) (2.27.2)\n"
          ]
        },
        {
          "output_type": "execute_result",
          "data": {
            "text/plain": [
              "'\\n\\n\\n'"
            ],
            "application/vnd.google.colaboratory.intrinsic+json": {
              "type": "string"
            }
          },
          "metadata": {},
          "execution_count": 1
        }
      ]
    },
    {
      "cell_type": "markdown",
      "source": [
        "# openai\n",
        "\n",
        "openai"
      ],
      "metadata": {
        "id": "oADLAtEdWGFP"
      }
    },
    {
      "cell_type": "code",
      "source": [
        "from openai import OpenAI\n",
        "client = OpenAI(api_key=OPENAI_API_KEY)  # Assuming OPENAI_API_KEY is defined\n",
        "\n",
        "# Fetch information using the OpenAI API\n",
        "response = client.chat.completions.create(\n",
        "  model=\"gpt-3.5-turbo\",\n",
        "  messages=[\n",
        "    {\"role\": \"system\", \"content\": \"You are a helpful assistant.\"},\n",
        "    {\"role\": \"user\", \"content\": \"tell me something i dont hear\"}\n",
        "  ]\n",
        ")\n",
        "\n",
        "# Assign the content of the response to result_from_news\n",
        "result_from_news = response.choices[0].message.content\n",
        "\n",
        "# Now you can use result_from_news in the f-string\n",
        "engineered_content = f\"\"\"\n",
        "user query: nvidia stock price\n",
        "here's some additional info regarding user query:\n",
        "{result_from_news}\n",
        "\"\"\""
      ],
      "metadata": {
        "id": "73XR81OxPNpA",
        "colab": {
          "base_uri": "https://localhost:8080/",
          "height": 418
        },
        "outputId": "7a7576fa-7636-4142-a9c4-886244db9733"
      },
      "execution_count": 2,
      "outputs": [
        {
          "output_type": "error",
          "ename": "AuthenticationError",
          "evalue": "Error code: 401 - {'error': {'message': 'Incorrect API key provided: OPENAI_A**_KEY. You can find your API key at https://platform.openai.com/account/api-keys.', 'type': 'invalid_request_error', 'param': None, 'code': 'invalid_api_key'}}",
          "traceback": [
            "\u001b[0;31m---------------------------------------------------------------------------\u001b[0m",
            "\u001b[0;31mAuthenticationError\u001b[0m                       Traceback (most recent call last)",
            "\u001b[0;32m<ipython-input-2-63a879b4494b>\u001b[0m in \u001b[0;36m<cell line: 0>\u001b[0;34m()\u001b[0m\n\u001b[1;32m      3\u001b[0m \u001b[0;34m\u001b[0m\u001b[0m\n\u001b[1;32m      4\u001b[0m \u001b[0;31m# Fetch information using the OpenAI API\u001b[0m\u001b[0;34m\u001b[0m\u001b[0;34m\u001b[0m\u001b[0m\n\u001b[0;32m----> 5\u001b[0;31m response = client.chat.completions.create(\n\u001b[0m\u001b[1;32m      6\u001b[0m   \u001b[0mmodel\u001b[0m\u001b[0;34m=\u001b[0m\u001b[0;34m\"gpt-3.5-turbo\"\u001b[0m\u001b[0;34m,\u001b[0m\u001b[0;34m\u001b[0m\u001b[0;34m\u001b[0m\u001b[0m\n\u001b[1;32m      7\u001b[0m   messages=[\n",
            "\u001b[0;32m/usr/local/lib/python3.11/dist-packages/openai/_utils/_utils.py\u001b[0m in \u001b[0;36mwrapper\u001b[0;34m(*args, **kwargs)\u001b[0m\n\u001b[1;32m    277\u001b[0m                         \u001b[0mmsg\u001b[0m \u001b[0;34m=\u001b[0m \u001b[0;34mf\"Missing required argument: {quote(missing[0])}\"\u001b[0m\u001b[0;34m\u001b[0m\u001b[0;34m\u001b[0m\u001b[0m\n\u001b[1;32m    278\u001b[0m                 \u001b[0;32mraise\u001b[0m \u001b[0mTypeError\u001b[0m\u001b[0;34m(\u001b[0m\u001b[0mmsg\u001b[0m\u001b[0;34m)\u001b[0m\u001b[0;34m\u001b[0m\u001b[0;34m\u001b[0m\u001b[0m\n\u001b[0;32m--> 279\u001b[0;31m             \u001b[0;32mreturn\u001b[0m \u001b[0mfunc\u001b[0m\u001b[0;34m(\u001b[0m\u001b[0;34m*\u001b[0m\u001b[0margs\u001b[0m\u001b[0;34m,\u001b[0m \u001b[0;34m**\u001b[0m\u001b[0mkwargs\u001b[0m\u001b[0;34m)\u001b[0m\u001b[0;34m\u001b[0m\u001b[0;34m\u001b[0m\u001b[0m\n\u001b[0m\u001b[1;32m    280\u001b[0m \u001b[0;34m\u001b[0m\u001b[0m\n\u001b[1;32m    281\u001b[0m         \u001b[0;32mreturn\u001b[0m \u001b[0mwrapper\u001b[0m  \u001b[0;31m# type: ignore\u001b[0m\u001b[0;34m\u001b[0m\u001b[0;34m\u001b[0m\u001b[0m\n",
            "\u001b[0;32m/usr/local/lib/python3.11/dist-packages/openai/resources/chat/completions.py\u001b[0m in \u001b[0;36mcreate\u001b[0;34m(self, messages, model, audio, frequency_penalty, function_call, functions, logit_bias, logprobs, max_completion_tokens, max_tokens, metadata, modalities, n, parallel_tool_calls, prediction, presence_penalty, reasoning_effort, response_format, seed, service_tier, stop, store, stream, stream_options, temperature, tool_choice, tools, top_logprobs, top_p, user, extra_headers, extra_query, extra_body, timeout)\u001b[0m\n\u001b[1;32m    861\u001b[0m     ) -> ChatCompletion | Stream[ChatCompletionChunk]:\n\u001b[1;32m    862\u001b[0m         \u001b[0mvalidate_response_format\u001b[0m\u001b[0;34m(\u001b[0m\u001b[0mresponse_format\u001b[0m\u001b[0;34m)\u001b[0m\u001b[0;34m\u001b[0m\u001b[0;34m\u001b[0m\u001b[0m\n\u001b[0;32m--> 863\u001b[0;31m         return self._post(\n\u001b[0m\u001b[1;32m    864\u001b[0m             \u001b[0;34m\"/chat/completions\"\u001b[0m\u001b[0;34m,\u001b[0m\u001b[0;34m\u001b[0m\u001b[0;34m\u001b[0m\u001b[0m\n\u001b[1;32m    865\u001b[0m             body=maybe_transform(\n",
            "\u001b[0;32m/usr/local/lib/python3.11/dist-packages/openai/_base_client.py\u001b[0m in \u001b[0;36mpost\u001b[0;34m(self, path, cast_to, body, options, files, stream, stream_cls)\u001b[0m\n\u001b[1;32m   1281\u001b[0m             \u001b[0mmethod\u001b[0m\u001b[0;34m=\u001b[0m\u001b[0;34m\"post\"\u001b[0m\u001b[0;34m,\u001b[0m \u001b[0murl\u001b[0m\u001b[0;34m=\u001b[0m\u001b[0mpath\u001b[0m\u001b[0;34m,\u001b[0m \u001b[0mjson_data\u001b[0m\u001b[0;34m=\u001b[0m\u001b[0mbody\u001b[0m\u001b[0;34m,\u001b[0m \u001b[0mfiles\u001b[0m\u001b[0;34m=\u001b[0m\u001b[0mto_httpx_files\u001b[0m\u001b[0;34m(\u001b[0m\u001b[0mfiles\u001b[0m\u001b[0;34m)\u001b[0m\u001b[0;34m,\u001b[0m \u001b[0;34m**\u001b[0m\u001b[0moptions\u001b[0m\u001b[0;34m\u001b[0m\u001b[0;34m\u001b[0m\u001b[0m\n\u001b[1;32m   1282\u001b[0m         )\n\u001b[0;32m-> 1283\u001b[0;31m         \u001b[0;32mreturn\u001b[0m \u001b[0mcast\u001b[0m\u001b[0;34m(\u001b[0m\u001b[0mResponseT\u001b[0m\u001b[0;34m,\u001b[0m \u001b[0mself\u001b[0m\u001b[0;34m.\u001b[0m\u001b[0mrequest\u001b[0m\u001b[0;34m(\u001b[0m\u001b[0mcast_to\u001b[0m\u001b[0;34m,\u001b[0m \u001b[0mopts\u001b[0m\u001b[0;34m,\u001b[0m \u001b[0mstream\u001b[0m\u001b[0;34m=\u001b[0m\u001b[0mstream\u001b[0m\u001b[0;34m,\u001b[0m \u001b[0mstream_cls\u001b[0m\u001b[0;34m=\u001b[0m\u001b[0mstream_cls\u001b[0m\u001b[0;34m)\u001b[0m\u001b[0;34m)\u001b[0m\u001b[0;34m\u001b[0m\u001b[0;34m\u001b[0m\u001b[0m\n\u001b[0m\u001b[1;32m   1284\u001b[0m \u001b[0;34m\u001b[0m\u001b[0m\n\u001b[1;32m   1285\u001b[0m     def patch(\n",
            "\u001b[0;32m/usr/local/lib/python3.11/dist-packages/openai/_base_client.py\u001b[0m in \u001b[0;36mrequest\u001b[0;34m(self, cast_to, options, remaining_retries, stream, stream_cls)\u001b[0m\n\u001b[1;32m    958\u001b[0m             \u001b[0mretries_taken\u001b[0m \u001b[0;34m=\u001b[0m \u001b[0;36m0\u001b[0m\u001b[0;34m\u001b[0m\u001b[0;34m\u001b[0m\u001b[0m\n\u001b[1;32m    959\u001b[0m \u001b[0;34m\u001b[0m\u001b[0m\n\u001b[0;32m--> 960\u001b[0;31m         return self._request(\n\u001b[0m\u001b[1;32m    961\u001b[0m             \u001b[0mcast_to\u001b[0m\u001b[0;34m=\u001b[0m\u001b[0mcast_to\u001b[0m\u001b[0;34m,\u001b[0m\u001b[0;34m\u001b[0m\u001b[0;34m\u001b[0m\u001b[0m\n\u001b[1;32m    962\u001b[0m             \u001b[0moptions\u001b[0m\u001b[0;34m=\u001b[0m\u001b[0moptions\u001b[0m\u001b[0;34m,\u001b[0m\u001b[0;34m\u001b[0m\u001b[0;34m\u001b[0m\u001b[0m\n",
            "\u001b[0;32m/usr/local/lib/python3.11/dist-packages/openai/_base_client.py\u001b[0m in \u001b[0;36m_request\u001b[0;34m(self, cast_to, options, retries_taken, stream, stream_cls)\u001b[0m\n\u001b[1;32m   1062\u001b[0m \u001b[0;34m\u001b[0m\u001b[0m\n\u001b[1;32m   1063\u001b[0m             \u001b[0mlog\u001b[0m\u001b[0;34m.\u001b[0m\u001b[0mdebug\u001b[0m\u001b[0;34m(\u001b[0m\u001b[0;34m\"Re-raising status error\"\u001b[0m\u001b[0;34m)\u001b[0m\u001b[0;34m\u001b[0m\u001b[0;34m\u001b[0m\u001b[0m\n\u001b[0;32m-> 1064\u001b[0;31m             \u001b[0;32mraise\u001b[0m \u001b[0mself\u001b[0m\u001b[0;34m.\u001b[0m\u001b[0m_make_status_error_from_response\u001b[0m\u001b[0;34m(\u001b[0m\u001b[0merr\u001b[0m\u001b[0;34m.\u001b[0m\u001b[0mresponse\u001b[0m\u001b[0;34m)\u001b[0m \u001b[0;32mfrom\u001b[0m \u001b[0;32mNone\u001b[0m\u001b[0;34m\u001b[0m\u001b[0;34m\u001b[0m\u001b[0m\n\u001b[0m\u001b[1;32m   1065\u001b[0m \u001b[0;34m\u001b[0m\u001b[0m\n\u001b[1;32m   1066\u001b[0m         return self._process_response(\n",
            "\u001b[0;31mAuthenticationError\u001b[0m: Error code: 401 - {'error': {'message': 'Incorrect API key provided: OPENAI_A**_KEY. You can find your API key at https://platform.openai.com/account/api-keys.', 'type': 'invalid_request_error', 'param': None, 'code': 'invalid_api_key'}}"
          ]
        }
      ]
    },
    {
      "cell_type": "code",
      "source": [
        "from openai import OpenAI\n",
        "\n",
        "client = OpenAI(api_key=OPENAI_API_KEY)\n",
        "\n",
        "def call_chatgpt(prompt):\n",
        "  \"\"\"Sends a prompt to the OpenAI API and returns the response.\"\"\"\n",
        "  response = client.chat.completions.create(\n",
        "    model=\"gpt-3.5-turbo\",\n",
        "    messages=[\n",
        "      {\"role\": \"system\", \"content\": \"You are a helpful assistant.\"},\n",
        "      {\"role\": \"user\", \"content\": prompt}\n",
        "    ]\n",
        "  )\n",
        "  return response.choices[0].message.content\n",
        "\n",
        "# Now you can call the function\n",
        "response = call_chatgpt(\"tell me a joke\")\n",
        "print(response)"
      ],
      "metadata": {
        "colab": {
          "base_uri": "https://localhost:8080/",
          "height": 400
        },
        "id": "wHyx_WFvhsvM",
        "outputId": "ef2bf5ce-0070-4174-8144-490bc67318c6"
      },
      "execution_count": 3,
      "outputs": [
        {
          "output_type": "error",
          "ename": "AuthenticationError",
          "evalue": "Error code: 401 - {'error': {'message': 'Incorrect API key provided: OPENAI_A**_KEY. You can find your API key at https://platform.openai.com/account/api-keys.', 'type': 'invalid_request_error', 'param': None, 'code': 'invalid_api_key'}}",
          "traceback": [
            "\u001b[0;31m---------------------------------------------------------------------------\u001b[0m",
            "\u001b[0;31mAuthenticationError\u001b[0m                       Traceback (most recent call last)",
            "\u001b[0;32m<ipython-input-3-7798ae2419ff>\u001b[0m in \u001b[0;36m<cell line: 0>\u001b[0;34m()\u001b[0m\n\u001b[1;32m     15\u001b[0m \u001b[0;34m\u001b[0m\u001b[0m\n\u001b[1;32m     16\u001b[0m \u001b[0;31m# Now you can call the function\u001b[0m\u001b[0;34m\u001b[0m\u001b[0;34m\u001b[0m\u001b[0m\n\u001b[0;32m---> 17\u001b[0;31m \u001b[0mresponse\u001b[0m \u001b[0;34m=\u001b[0m \u001b[0mcall_chatgpt\u001b[0m\u001b[0;34m(\u001b[0m\u001b[0;34m\"tell me a joke\"\u001b[0m\u001b[0;34m)\u001b[0m\u001b[0;34m\u001b[0m\u001b[0;34m\u001b[0m\u001b[0m\n\u001b[0m\u001b[1;32m     18\u001b[0m \u001b[0mprint\u001b[0m\u001b[0;34m(\u001b[0m\u001b[0mresponse\u001b[0m\u001b[0;34m)\u001b[0m\u001b[0;34m\u001b[0m\u001b[0;34m\u001b[0m\u001b[0m\n",
            "\u001b[0;32m<ipython-input-3-7798ae2419ff>\u001b[0m in \u001b[0;36mcall_chatgpt\u001b[0;34m(prompt)\u001b[0m\n\u001b[1;32m      5\u001b[0m \u001b[0;32mdef\u001b[0m \u001b[0mcall_chatgpt\u001b[0m\u001b[0;34m(\u001b[0m\u001b[0mprompt\u001b[0m\u001b[0;34m)\u001b[0m\u001b[0;34m:\u001b[0m\u001b[0;34m\u001b[0m\u001b[0;34m\u001b[0m\u001b[0m\n\u001b[1;32m      6\u001b[0m   \u001b[0;34m\"\"\"Sends a prompt to the OpenAI API and returns the response.\"\"\"\u001b[0m\u001b[0;34m\u001b[0m\u001b[0;34m\u001b[0m\u001b[0m\n\u001b[0;32m----> 7\u001b[0;31m   response = client.chat.completions.create(\n\u001b[0m\u001b[1;32m      8\u001b[0m     \u001b[0mmodel\u001b[0m\u001b[0;34m=\u001b[0m\u001b[0;34m\"gpt-3.5-turbo\"\u001b[0m\u001b[0;34m,\u001b[0m\u001b[0;34m\u001b[0m\u001b[0;34m\u001b[0m\u001b[0m\n\u001b[1;32m      9\u001b[0m     messages=[\n",
            "\u001b[0;32m/usr/local/lib/python3.11/dist-packages/openai/_utils/_utils.py\u001b[0m in \u001b[0;36mwrapper\u001b[0;34m(*args, **kwargs)\u001b[0m\n\u001b[1;32m    277\u001b[0m                         \u001b[0mmsg\u001b[0m \u001b[0;34m=\u001b[0m \u001b[0;34mf\"Missing required argument: {quote(missing[0])}\"\u001b[0m\u001b[0;34m\u001b[0m\u001b[0;34m\u001b[0m\u001b[0m\n\u001b[1;32m    278\u001b[0m                 \u001b[0;32mraise\u001b[0m \u001b[0mTypeError\u001b[0m\u001b[0;34m(\u001b[0m\u001b[0mmsg\u001b[0m\u001b[0;34m)\u001b[0m\u001b[0;34m\u001b[0m\u001b[0;34m\u001b[0m\u001b[0m\n\u001b[0;32m--> 279\u001b[0;31m             \u001b[0;32mreturn\u001b[0m \u001b[0mfunc\u001b[0m\u001b[0;34m(\u001b[0m\u001b[0;34m*\u001b[0m\u001b[0margs\u001b[0m\u001b[0;34m,\u001b[0m \u001b[0;34m**\u001b[0m\u001b[0mkwargs\u001b[0m\u001b[0;34m)\u001b[0m\u001b[0;34m\u001b[0m\u001b[0;34m\u001b[0m\u001b[0m\n\u001b[0m\u001b[1;32m    280\u001b[0m \u001b[0;34m\u001b[0m\u001b[0m\n\u001b[1;32m    281\u001b[0m         \u001b[0;32mreturn\u001b[0m \u001b[0mwrapper\u001b[0m  \u001b[0;31m# type: ignore\u001b[0m\u001b[0;34m\u001b[0m\u001b[0;34m\u001b[0m\u001b[0m\n",
            "\u001b[0;32m/usr/local/lib/python3.11/dist-packages/openai/resources/chat/completions.py\u001b[0m in \u001b[0;36mcreate\u001b[0;34m(self, messages, model, audio, frequency_penalty, function_call, functions, logit_bias, logprobs, max_completion_tokens, max_tokens, metadata, modalities, n, parallel_tool_calls, prediction, presence_penalty, reasoning_effort, response_format, seed, service_tier, stop, store, stream, stream_options, temperature, tool_choice, tools, top_logprobs, top_p, user, extra_headers, extra_query, extra_body, timeout)\u001b[0m\n\u001b[1;32m    861\u001b[0m     ) -> ChatCompletion | Stream[ChatCompletionChunk]:\n\u001b[1;32m    862\u001b[0m         \u001b[0mvalidate_response_format\u001b[0m\u001b[0;34m(\u001b[0m\u001b[0mresponse_format\u001b[0m\u001b[0;34m)\u001b[0m\u001b[0;34m\u001b[0m\u001b[0;34m\u001b[0m\u001b[0m\n\u001b[0;32m--> 863\u001b[0;31m         return self._post(\n\u001b[0m\u001b[1;32m    864\u001b[0m             \u001b[0;34m\"/chat/completions\"\u001b[0m\u001b[0;34m,\u001b[0m\u001b[0;34m\u001b[0m\u001b[0;34m\u001b[0m\u001b[0m\n\u001b[1;32m    865\u001b[0m             body=maybe_transform(\n",
            "\u001b[0;32m/usr/local/lib/python3.11/dist-packages/openai/_base_client.py\u001b[0m in \u001b[0;36mpost\u001b[0;34m(self, path, cast_to, body, options, files, stream, stream_cls)\u001b[0m\n\u001b[1;32m   1281\u001b[0m             \u001b[0mmethod\u001b[0m\u001b[0;34m=\u001b[0m\u001b[0;34m\"post\"\u001b[0m\u001b[0;34m,\u001b[0m \u001b[0murl\u001b[0m\u001b[0;34m=\u001b[0m\u001b[0mpath\u001b[0m\u001b[0;34m,\u001b[0m \u001b[0mjson_data\u001b[0m\u001b[0;34m=\u001b[0m\u001b[0mbody\u001b[0m\u001b[0;34m,\u001b[0m \u001b[0mfiles\u001b[0m\u001b[0;34m=\u001b[0m\u001b[0mto_httpx_files\u001b[0m\u001b[0;34m(\u001b[0m\u001b[0mfiles\u001b[0m\u001b[0;34m)\u001b[0m\u001b[0;34m,\u001b[0m \u001b[0;34m**\u001b[0m\u001b[0moptions\u001b[0m\u001b[0;34m\u001b[0m\u001b[0;34m\u001b[0m\u001b[0m\n\u001b[1;32m   1282\u001b[0m         )\n\u001b[0;32m-> 1283\u001b[0;31m         \u001b[0;32mreturn\u001b[0m \u001b[0mcast\u001b[0m\u001b[0;34m(\u001b[0m\u001b[0mResponseT\u001b[0m\u001b[0;34m,\u001b[0m \u001b[0mself\u001b[0m\u001b[0;34m.\u001b[0m\u001b[0mrequest\u001b[0m\u001b[0;34m(\u001b[0m\u001b[0mcast_to\u001b[0m\u001b[0;34m,\u001b[0m \u001b[0mopts\u001b[0m\u001b[0;34m,\u001b[0m \u001b[0mstream\u001b[0m\u001b[0;34m=\u001b[0m\u001b[0mstream\u001b[0m\u001b[0;34m,\u001b[0m \u001b[0mstream_cls\u001b[0m\u001b[0;34m=\u001b[0m\u001b[0mstream_cls\u001b[0m\u001b[0;34m)\u001b[0m\u001b[0;34m)\u001b[0m\u001b[0;34m\u001b[0m\u001b[0;34m\u001b[0m\u001b[0m\n\u001b[0m\u001b[1;32m   1284\u001b[0m \u001b[0;34m\u001b[0m\u001b[0m\n\u001b[1;32m   1285\u001b[0m     def patch(\n",
            "\u001b[0;32m/usr/local/lib/python3.11/dist-packages/openai/_base_client.py\u001b[0m in \u001b[0;36mrequest\u001b[0;34m(self, cast_to, options, remaining_retries, stream, stream_cls)\u001b[0m\n\u001b[1;32m    958\u001b[0m             \u001b[0mretries_taken\u001b[0m \u001b[0;34m=\u001b[0m \u001b[0;36m0\u001b[0m\u001b[0;34m\u001b[0m\u001b[0;34m\u001b[0m\u001b[0m\n\u001b[1;32m    959\u001b[0m \u001b[0;34m\u001b[0m\u001b[0m\n\u001b[0;32m--> 960\u001b[0;31m         return self._request(\n\u001b[0m\u001b[1;32m    961\u001b[0m             \u001b[0mcast_to\u001b[0m\u001b[0;34m=\u001b[0m\u001b[0mcast_to\u001b[0m\u001b[0;34m,\u001b[0m\u001b[0;34m\u001b[0m\u001b[0;34m\u001b[0m\u001b[0m\n\u001b[1;32m    962\u001b[0m             \u001b[0moptions\u001b[0m\u001b[0;34m=\u001b[0m\u001b[0moptions\u001b[0m\u001b[0;34m,\u001b[0m\u001b[0;34m\u001b[0m\u001b[0;34m\u001b[0m\u001b[0m\n",
            "\u001b[0;32m/usr/local/lib/python3.11/dist-packages/openai/_base_client.py\u001b[0m in \u001b[0;36m_request\u001b[0;34m(self, cast_to, options, retries_taken, stream, stream_cls)\u001b[0m\n\u001b[1;32m   1062\u001b[0m \u001b[0;34m\u001b[0m\u001b[0m\n\u001b[1;32m   1063\u001b[0m             \u001b[0mlog\u001b[0m\u001b[0;34m.\u001b[0m\u001b[0mdebug\u001b[0m\u001b[0;34m(\u001b[0m\u001b[0;34m\"Re-raising status error\"\u001b[0m\u001b[0;34m)\u001b[0m\u001b[0;34m\u001b[0m\u001b[0;34m\u001b[0m\u001b[0m\n\u001b[0;32m-> 1064\u001b[0;31m             \u001b[0;32mraise\u001b[0m \u001b[0mself\u001b[0m\u001b[0;34m.\u001b[0m\u001b[0m_make_status_error_from_response\u001b[0m\u001b[0;34m(\u001b[0m\u001b[0merr\u001b[0m\u001b[0;34m.\u001b[0m\u001b[0mresponse\u001b[0m\u001b[0;34m)\u001b[0m \u001b[0;32mfrom\u001b[0m \u001b[0;32mNone\u001b[0m\u001b[0;34m\u001b[0m\u001b[0;34m\u001b[0m\u001b[0m\n\u001b[0m\u001b[1;32m   1065\u001b[0m \u001b[0;34m\u001b[0m\u001b[0m\n\u001b[1;32m   1066\u001b[0m         return self._process_response(\n",
            "\u001b[0;31mAuthenticationError\u001b[0m: Error code: 401 - {'error': {'message': 'Incorrect API key provided: OPENAI_A**_KEY. You can find your API key at https://platform.openai.com/account/api-keys.', 'type': 'invalid_request_error', 'param': None, 'code': 'invalid_api_key'}}"
          ]
        }
      ]
    },
    {
      "cell_type": "code",
      "source": [
        "! pip install wyn-voice pyautogen pydub"
      ],
      "metadata": {
        "colab": {
          "base_uri": "https://localhost:8080/",
          "height": 0
        },
        "id": "v8ACTK9_hwzh",
        "outputId": "42653d50-19c7-4b51-a43c-80855e6269b7"
      },
      "execution_count": 4,
      "outputs": [
        {
          "output_type": "stream",
          "name": "stdout",
          "text": [
            "Collecting wyn-voice\n",
            "  Downloading wyn_voice-0.2.3-py3-none-any.whl.metadata (4.3 kB)\n",
            "Collecting pyautogen\n",
            "  Downloading pyautogen-0.7.4-py3-none-any.whl.metadata (32 kB)\n",
            "Collecting pydub\n",
            "  Downloading pydub-0.25.1-py2.py3-none-any.whl.metadata (1.4 kB)\n",
            "Requirement already satisfied: google-colab<2.0.0,>=1.0.0 in /usr/local/lib/python3.11/dist-packages (from wyn-voice) (1.0.0)\n",
            "Requirement already satisfied: ipython==7.34.0 in /usr/local/lib/python3.11/dist-packages (from wyn-voice) (7.34.0)\n",
            "Requirement already satisfied: openai<2.0.0,>=1.35.14 in /usr/local/lib/python3.11/dist-packages (from wyn-voice) (1.61.1)\n",
            "Requirement already satisfied: setuptools>=18.5 in /usr/local/lib/python3.11/dist-packages (from ipython==7.34.0->wyn-voice) (75.1.0)\n",
            "Collecting jedi>=0.16 (from ipython==7.34.0->wyn-voice)\n",
            "  Downloading jedi-0.19.2-py2.py3-none-any.whl.metadata (22 kB)\n",
            "Requirement already satisfied: decorator in /usr/local/lib/python3.11/dist-packages (from ipython==7.34.0->wyn-voice) (4.4.2)\n",
            "Requirement already satisfied: pickleshare in /usr/local/lib/python3.11/dist-packages (from ipython==7.34.0->wyn-voice) (0.7.5)\n",
            "Requirement already satisfied: traitlets>=4.2 in /usr/local/lib/python3.11/dist-packages (from ipython==7.34.0->wyn-voice) (5.7.1)\n",
            "Requirement already satisfied: prompt-toolkit!=3.0.0,!=3.0.1,<3.1.0,>=2.0.0 in /usr/local/lib/python3.11/dist-packages (from ipython==7.34.0->wyn-voice) (3.0.50)\n",
            "Requirement already satisfied: pygments in /usr/local/lib/python3.11/dist-packages (from ipython==7.34.0->wyn-voice) (2.18.0)\n",
            "Requirement already satisfied: backcall in /usr/local/lib/python3.11/dist-packages (from ipython==7.34.0->wyn-voice) (0.2.0)\n",
            "Requirement already satisfied: matplotlib-inline in /usr/local/lib/python3.11/dist-packages (from ipython==7.34.0->wyn-voice) (0.1.7)\n",
            "Requirement already satisfied: pexpect>4.3 in /usr/local/lib/python3.11/dist-packages (from ipython==7.34.0->wyn-voice) (4.9.0)\n",
            "Collecting asyncer==0.0.8 (from pyautogen)\n",
            "  Downloading asyncer-0.0.8-py3-none-any.whl.metadata (6.7 kB)\n",
            "Collecting diskcache (from pyautogen)\n",
            "  Downloading diskcache-5.6.3-py3-none-any.whl.metadata (20 kB)\n",
            "Collecting docker (from pyautogen)\n",
            "  Downloading docker-7.1.0-py3-none-any.whl.metadata (3.8 kB)\n",
            "Collecting fast-depends<3,>=2.4.12 (from pyautogen)\n",
            "  Downloading fast_depends-2.4.12-py3-none-any.whl.metadata (7.6 kB)\n",
            "Requirement already satisfied: numpy in /usr/local/lib/python3.11/dist-packages (from pyautogen) (1.26.4)\n",
            "Requirement already satisfied: packaging in /usr/local/lib/python3.11/dist-packages (from pyautogen) (24.2)\n",
            "Requirement already satisfied: pydantic<3,>=2.6.1 in /usr/local/lib/python3.11/dist-packages (from pyautogen) (2.10.6)\n",
            "Collecting python-dotenv (from pyautogen)\n",
            "  Downloading python_dotenv-1.0.1-py3-none-any.whl.metadata (23 kB)\n",
            "Requirement already satisfied: termcolor in /usr/local/lib/python3.11/dist-packages (from pyautogen) (2.5.0)\n",
            "Collecting tiktoken (from pyautogen)\n",
            "  Downloading tiktoken-0.9.0-cp311-cp311-manylinux_2_17_x86_64.manylinux2014_x86_64.whl.metadata (6.7 kB)\n",
            "Requirement already satisfied: websockets<15,>=14 in /usr/local/lib/python3.11/dist-packages (from pyautogen) (14.2)\n",
            "Requirement already satisfied: anyio<5.0,>=3.4.0 in /usr/local/lib/python3.11/dist-packages (from asyncer==0.0.8->pyautogen) (3.7.1)\n",
            "Requirement already satisfied: google-auth==2.27.0 in /usr/local/lib/python3.11/dist-packages (from google-colab<2.0.0,>=1.0.0->wyn-voice) (2.27.0)\n",
            "Requirement already satisfied: ipykernel==5.5.6 in /usr/local/lib/python3.11/dist-packages (from google-colab<2.0.0,>=1.0.0->wyn-voice) (5.5.6)\n",
            "Requirement already satisfied: ipyparallel==8.8.0 in /usr/local/lib/python3.11/dist-packages (from google-colab<2.0.0,>=1.0.0->wyn-voice) (8.8.0)\n",
            "Requirement already satisfied: notebook==6.5.5 in /usr/local/lib/python3.11/dist-packages (from google-colab<2.0.0,>=1.0.0->wyn-voice) (6.5.5)\n",
            "Requirement already satisfied: pandas==2.2.2 in /usr/local/lib/python3.11/dist-packages (from google-colab<2.0.0,>=1.0.0->wyn-voice) (2.2.2)\n",
            "Requirement already satisfied: portpicker==1.5.2 in /usr/local/lib/python3.11/dist-packages (from google-colab<2.0.0,>=1.0.0->wyn-voice) (1.5.2)\n",
            "Requirement already satisfied: requests==2.32.3 in /usr/local/lib/python3.11/dist-packages (from google-colab<2.0.0,>=1.0.0->wyn-voice) (2.32.3)\n",
            "Requirement already satisfied: tornado==6.4.2 in /usr/local/lib/python3.11/dist-packages (from google-colab<2.0.0,>=1.0.0->wyn-voice) (6.4.2)\n",
            "Requirement already satisfied: cachetools<6.0,>=2.0.0 in /usr/local/lib/python3.11/dist-packages (from google-auth==2.27.0->google-colab<2.0.0,>=1.0.0->wyn-voice) (5.5.1)\n",
            "Requirement already satisfied: pyasn1-modules>=0.2.1 in /usr/local/lib/python3.11/dist-packages (from google-auth==2.27.0->google-colab<2.0.0,>=1.0.0->wyn-voice) (0.4.1)\n",
            "Requirement already satisfied: rsa<5,>=3.1.4 in /usr/local/lib/python3.11/dist-packages (from google-auth==2.27.0->google-colab<2.0.0,>=1.0.0->wyn-voice) (4.9)\n",
            "Requirement already satisfied: ipython-genutils in /usr/local/lib/python3.11/dist-packages (from ipykernel==5.5.6->google-colab<2.0.0,>=1.0.0->wyn-voice) (0.2.0)\n",
            "Requirement already satisfied: jupyter-client in /usr/local/lib/python3.11/dist-packages (from ipykernel==5.5.6->google-colab<2.0.0,>=1.0.0->wyn-voice) (6.1.12)\n",
            "Requirement already satisfied: entrypoints in /usr/local/lib/python3.11/dist-packages (from ipyparallel==8.8.0->google-colab<2.0.0,>=1.0.0->wyn-voice) (0.4)\n",
            "Requirement already satisfied: psutil in /usr/local/lib/python3.11/dist-packages (from ipyparallel==8.8.0->google-colab<2.0.0,>=1.0.0->wyn-voice) (5.9.5)\n",
            "Requirement already satisfied: python-dateutil>=2.1 in /usr/local/lib/python3.11/dist-packages (from ipyparallel==8.8.0->google-colab<2.0.0,>=1.0.0->wyn-voice) (2.8.2)\n",
            "Requirement already satisfied: pyzmq>=18 in /usr/local/lib/python3.11/dist-packages (from ipyparallel==8.8.0->google-colab<2.0.0,>=1.0.0->wyn-voice) (24.0.1)\n",
            "Requirement already satisfied: tqdm in /usr/local/lib/python3.11/dist-packages (from ipyparallel==8.8.0->google-colab<2.0.0,>=1.0.0->wyn-voice) (4.67.1)\n",
            "Requirement already satisfied: jinja2 in /usr/local/lib/python3.11/dist-packages (from notebook==6.5.5->google-colab<2.0.0,>=1.0.0->wyn-voice) (3.1.5)\n",
            "Requirement already satisfied: argon2-cffi in /usr/local/lib/python3.11/dist-packages (from notebook==6.5.5->google-colab<2.0.0,>=1.0.0->wyn-voice) (23.1.0)\n",
            "Requirement already satisfied: jupyter-core>=4.6.1 in /usr/local/lib/python3.11/dist-packages (from notebook==6.5.5->google-colab<2.0.0,>=1.0.0->wyn-voice) (5.7.2)\n",
            "Requirement already satisfied: nbformat in /usr/local/lib/python3.11/dist-packages (from notebook==6.5.5->google-colab<2.0.0,>=1.0.0->wyn-voice) (5.10.4)\n",
            "Requirement already satisfied: nbconvert>=5 in /usr/local/lib/python3.11/dist-packages (from notebook==6.5.5->google-colab<2.0.0,>=1.0.0->wyn-voice) (7.16.6)\n",
            "Requirement already satisfied: nest-asyncio>=1.5 in /usr/local/lib/python3.11/dist-packages (from notebook==6.5.5->google-colab<2.0.0,>=1.0.0->wyn-voice) (1.6.0)\n",
            "Requirement already satisfied: Send2Trash>=1.8.0 in /usr/local/lib/python3.11/dist-packages (from notebook==6.5.5->google-colab<2.0.0,>=1.0.0->wyn-voice) (1.8.3)\n",
            "Requirement already satisfied: terminado>=0.8.3 in /usr/local/lib/python3.11/dist-packages (from notebook==6.5.5->google-colab<2.0.0,>=1.0.0->wyn-voice) (0.18.1)\n",
            "Requirement already satisfied: prometheus-client in /usr/local/lib/python3.11/dist-packages (from notebook==6.5.5->google-colab<2.0.0,>=1.0.0->wyn-voice) (0.21.1)\n",
            "Requirement already satisfied: nbclassic>=0.4.7 in /usr/local/lib/python3.11/dist-packages (from notebook==6.5.5->google-colab<2.0.0,>=1.0.0->wyn-voice) (1.2.0)\n",
            "Requirement already satisfied: pytz>=2020.1 in /usr/local/lib/python3.11/dist-packages (from pandas==2.2.2->google-colab<2.0.0,>=1.0.0->wyn-voice) (2025.1)\n",
            "Requirement already satisfied: tzdata>=2022.7 in /usr/local/lib/python3.11/dist-packages (from pandas==2.2.2->google-colab<2.0.0,>=1.0.0->wyn-voice) (2025.1)\n",
            "Requirement already satisfied: charset-normalizer<4,>=2 in /usr/local/lib/python3.11/dist-packages (from requests==2.32.3->google-colab<2.0.0,>=1.0.0->wyn-voice) (3.4.1)\n",
            "Requirement already satisfied: idna<4,>=2.5 in /usr/local/lib/python3.11/dist-packages (from requests==2.32.3->google-colab<2.0.0,>=1.0.0->wyn-voice) (3.10)\n",
            "Requirement already satisfied: urllib3<3,>=1.21.1 in /usr/local/lib/python3.11/dist-packages (from requests==2.32.3->google-colab<2.0.0,>=1.0.0->wyn-voice) (2.3.0)\n",
            "Requirement already satisfied: certifi>=2017.4.17 in /usr/local/lib/python3.11/dist-packages (from requests==2.32.3->google-colab<2.0.0,>=1.0.0->wyn-voice) (2025.1.31)\n",
            "Requirement already satisfied: distro<2,>=1.7.0 in /usr/local/lib/python3.11/dist-packages (from openai<2.0.0,>=1.35.14->wyn-voice) (1.9.0)\n",
            "Requirement already satisfied: httpx<1,>=0.23.0 in /usr/local/lib/python3.11/dist-packages (from openai<2.0.0,>=1.35.14->wyn-voice) (0.28.1)\n",
            "Requirement already satisfied: jiter<1,>=0.4.0 in /usr/local/lib/python3.11/dist-packages (from openai<2.0.0,>=1.35.14->wyn-voice) (0.8.2)\n",
            "Requirement already satisfied: sniffio in /usr/local/lib/python3.11/dist-packages (from openai<2.0.0,>=1.35.14->wyn-voice) (1.3.1)\n",
            "Requirement already satisfied: typing-extensions<5,>=4.11 in /usr/local/lib/python3.11/dist-packages (from openai<2.0.0,>=1.35.14->wyn-voice) (4.12.2)\n",
            "Requirement already satisfied: annotated-types>=0.6.0 in /usr/local/lib/python3.11/dist-packages (from pydantic<3,>=2.6.1->pyautogen) (0.7.0)\n",
            "Requirement already satisfied: pydantic-core==2.27.2 in /usr/local/lib/python3.11/dist-packages (from pydantic<3,>=2.6.1->pyautogen) (2.27.2)\n",
            "Requirement already satisfied: regex>=2022.1.18 in /usr/local/lib/python3.11/dist-packages (from tiktoken->pyautogen) (2024.11.6)\n",
            "Requirement already satisfied: httpcore==1.* in /usr/local/lib/python3.11/dist-packages (from httpx<1,>=0.23.0->openai<2.0.0,>=1.35.14->wyn-voice) (1.0.7)\n",
            "Requirement already satisfied: h11<0.15,>=0.13 in /usr/local/lib/python3.11/dist-packages (from httpcore==1.*->httpx<1,>=0.23.0->openai<2.0.0,>=1.35.14->wyn-voice) (0.14.0)\n",
            "Requirement already satisfied: parso<0.9.0,>=0.8.4 in /usr/local/lib/python3.11/dist-packages (from jedi>=0.16->ipython==7.34.0->wyn-voice) (0.8.4)\n",
            "Requirement already satisfied: ptyprocess>=0.5 in /usr/local/lib/python3.11/dist-packages (from pexpect>4.3->ipython==7.34.0->wyn-voice) (0.7.0)\n",
            "Requirement already satisfied: wcwidth in /usr/local/lib/python3.11/dist-packages (from prompt-toolkit!=3.0.0,!=3.0.1,<3.1.0,>=2.0.0->ipython==7.34.0->wyn-voice) (0.2.13)\n",
            "Requirement already satisfied: platformdirs>=2.5 in /usr/local/lib/python3.11/dist-packages (from jupyter-core>=4.6.1->notebook==6.5.5->google-colab<2.0.0,>=1.0.0->wyn-voice) (4.3.6)\n",
            "Requirement already satisfied: notebook-shim>=0.2.3 in /usr/local/lib/python3.11/dist-packages (from nbclassic>=0.4.7->notebook==6.5.5->google-colab<2.0.0,>=1.0.0->wyn-voice) (0.2.4)\n",
            "Requirement already satisfied: beautifulsoup4 in /usr/local/lib/python3.11/dist-packages (from nbconvert>=5->notebook==6.5.5->google-colab<2.0.0,>=1.0.0->wyn-voice) (4.13.3)\n",
            "Requirement already satisfied: bleach!=5.0.0 in /usr/local/lib/python3.11/dist-packages (from bleach[css]!=5.0.0->nbconvert>=5->notebook==6.5.5->google-colab<2.0.0,>=1.0.0->wyn-voice) (6.2.0)\n",
            "Requirement already satisfied: defusedxml in /usr/local/lib/python3.11/dist-packages (from nbconvert>=5->notebook==6.5.5->google-colab<2.0.0,>=1.0.0->wyn-voice) (0.7.1)\n",
            "Requirement already satisfied: jupyterlab-pygments in /usr/local/lib/python3.11/dist-packages (from nbconvert>=5->notebook==6.5.5->google-colab<2.0.0,>=1.0.0->wyn-voice) (0.3.0)\n",
            "Requirement already satisfied: markupsafe>=2.0 in /usr/local/lib/python3.11/dist-packages (from nbconvert>=5->notebook==6.5.5->google-colab<2.0.0,>=1.0.0->wyn-voice) (3.0.2)\n",
            "Requirement already satisfied: mistune<4,>=2.0.3 in /usr/local/lib/python3.11/dist-packages (from nbconvert>=5->notebook==6.5.5->google-colab<2.0.0,>=1.0.0->wyn-voice) (3.1.1)\n",
            "Requirement already satisfied: nbclient>=0.5.0 in /usr/local/lib/python3.11/dist-packages (from nbconvert>=5->notebook==6.5.5->google-colab<2.0.0,>=1.0.0->wyn-voice) (0.10.2)\n",
            "Requirement already satisfied: pandocfilters>=1.4.1 in /usr/local/lib/python3.11/dist-packages (from nbconvert>=5->notebook==6.5.5->google-colab<2.0.0,>=1.0.0->wyn-voice) (1.5.1)\n",
            "Requirement already satisfied: fastjsonschema>=2.15 in /usr/local/lib/python3.11/dist-packages (from nbformat->notebook==6.5.5->google-colab<2.0.0,>=1.0.0->wyn-voice) (2.21.1)\n",
            "Requirement already satisfied: jsonschema>=2.6 in /usr/local/lib/python3.11/dist-packages (from nbformat->notebook==6.5.5->google-colab<2.0.0,>=1.0.0->wyn-voice) (4.23.0)\n",
            "Requirement already satisfied: pyasn1<0.7.0,>=0.4.6 in /usr/local/lib/python3.11/dist-packages (from pyasn1-modules>=0.2.1->google-auth==2.27.0->google-colab<2.0.0,>=1.0.0->wyn-voice) (0.6.1)\n",
            "Requirement already satisfied: six>=1.5 in /usr/local/lib/python3.11/dist-packages (from python-dateutil>=2.1->ipyparallel==8.8.0->google-colab<2.0.0,>=1.0.0->wyn-voice) (1.17.0)\n",
            "Requirement already satisfied: argon2-cffi-bindings in /usr/local/lib/python3.11/dist-packages (from argon2-cffi->notebook==6.5.5->google-colab<2.0.0,>=1.0.0->wyn-voice) (21.2.0)\n",
            "Requirement already satisfied: webencodings in /usr/local/lib/python3.11/dist-packages (from bleach!=5.0.0->bleach[css]!=5.0.0->nbconvert>=5->notebook==6.5.5->google-colab<2.0.0,>=1.0.0->wyn-voice) (0.5.1)\n",
            "Requirement already satisfied: tinycss2<1.5,>=1.1.0 in /usr/local/lib/python3.11/dist-packages (from bleach[css]!=5.0.0->nbconvert>=5->notebook==6.5.5->google-colab<2.0.0,>=1.0.0->wyn-voice) (1.4.0)\n",
            "Requirement already satisfied: attrs>=22.2.0 in /usr/local/lib/python3.11/dist-packages (from jsonschema>=2.6->nbformat->notebook==6.5.5->google-colab<2.0.0,>=1.0.0->wyn-voice) (25.1.0)\n",
            "Requirement already satisfied: jsonschema-specifications>=2023.03.6 in /usr/local/lib/python3.11/dist-packages (from jsonschema>=2.6->nbformat->notebook==6.5.5->google-colab<2.0.0,>=1.0.0->wyn-voice) (2024.10.1)\n",
            "Requirement already satisfied: referencing>=0.28.4 in /usr/local/lib/python3.11/dist-packages (from jsonschema>=2.6->nbformat->notebook==6.5.5->google-colab<2.0.0,>=1.0.0->wyn-voice) (0.36.2)\n",
            "Requirement already satisfied: rpds-py>=0.7.1 in /usr/local/lib/python3.11/dist-packages (from jsonschema>=2.6->nbformat->notebook==6.5.5->google-colab<2.0.0,>=1.0.0->wyn-voice) (0.22.3)\n",
            "Requirement already satisfied: jupyter-server<3,>=1.8 in /usr/local/lib/python3.11/dist-packages (from notebook-shim>=0.2.3->nbclassic>=0.4.7->notebook==6.5.5->google-colab<2.0.0,>=1.0.0->wyn-voice) (1.24.0)\n",
            "Requirement already satisfied: cffi>=1.0.1 in /usr/local/lib/python3.11/dist-packages (from argon2-cffi-bindings->argon2-cffi->notebook==6.5.5->google-colab<2.0.0,>=1.0.0->wyn-voice) (1.17.1)\n",
            "Requirement already satisfied: soupsieve>1.2 in /usr/local/lib/python3.11/dist-packages (from beautifulsoup4->nbconvert>=5->notebook==6.5.5->google-colab<2.0.0,>=1.0.0->wyn-voice) (2.6)\n",
            "Requirement already satisfied: pycparser in /usr/local/lib/python3.11/dist-packages (from cffi>=1.0.1->argon2-cffi-bindings->argon2-cffi->notebook==6.5.5->google-colab<2.0.0,>=1.0.0->wyn-voice) (2.22)\n",
            "Requirement already satisfied: websocket-client in /usr/local/lib/python3.11/dist-packages (from jupyter-server<3,>=1.8->notebook-shim>=0.2.3->nbclassic>=0.4.7->notebook==6.5.5->google-colab<2.0.0,>=1.0.0->wyn-voice) (1.8.0)\n",
            "Downloading wyn_voice-0.2.3-py3-none-any.whl (5.5 kB)\n",
            "Downloading pyautogen-0.7.4-py3-none-any.whl (593 kB)\n",
            "\u001b[2K   \u001b[90m━━━━━━━━━━━━━━━━━━━━━━━━━━━━━━━━━━━━━━━━\u001b[0m \u001b[32m593.5/593.5 kB\u001b[0m \u001b[31m41.4 MB/s\u001b[0m eta \u001b[36m0:00:00\u001b[0m\n",
            "\u001b[?25hDownloading asyncer-0.0.8-py3-none-any.whl (9.2 kB)\n",
            "Downloading pydub-0.25.1-py2.py3-none-any.whl (32 kB)\n",
            "Downloading fast_depends-2.4.12-py3-none-any.whl (17 kB)\n",
            "Downloading diskcache-5.6.3-py3-none-any.whl (45 kB)\n",
            "\u001b[2K   \u001b[90m━━━━━━━━━━━━━━━━━━━━━━━━━━━━━━━━━━━━━━━━\u001b[0m \u001b[32m45.5/45.5 kB\u001b[0m \u001b[31m4.2 MB/s\u001b[0m eta \u001b[36m0:00:00\u001b[0m\n",
            "\u001b[?25hDownloading docker-7.1.0-py3-none-any.whl (147 kB)\n",
            "\u001b[2K   \u001b[90m━━━━━━━━━━━━━━━━━━━━━━━━━━━━━━━━━━━━━━━━\u001b[0m \u001b[32m147.8/147.8 kB\u001b[0m \u001b[31m13.8 MB/s\u001b[0m eta \u001b[36m0:00:00\u001b[0m\n",
            "\u001b[?25hDownloading python_dotenv-1.0.1-py3-none-any.whl (19 kB)\n",
            "Downloading tiktoken-0.9.0-cp311-cp311-manylinux_2_17_x86_64.manylinux2014_x86_64.whl (1.2 MB)\n",
            "\u001b[2K   \u001b[90m━━━━━━━━━━━━━━━━━━━━━━━━━━━━━━━━━━━━━━━━\u001b[0m \u001b[32m1.2/1.2 MB\u001b[0m \u001b[31m59.7 MB/s\u001b[0m eta \u001b[36m0:00:00\u001b[0m\n",
            "\u001b[?25hDownloading jedi-0.19.2-py2.py3-none-any.whl (1.6 MB)\n",
            "\u001b[2K   \u001b[90m━━━━━━━━━━━━━━━━━━━━━━━━━━━━━━━━━━━━━━━━\u001b[0m \u001b[32m1.6/1.6 MB\u001b[0m \u001b[31m74.7 MB/s\u001b[0m eta \u001b[36m0:00:00\u001b[0m\n",
            "\u001b[?25hInstalling collected packages: pydub, python-dotenv, jedi, diskcache, tiktoken, docker, asyncer, fast-depends, pyautogen, wyn-voice\n",
            "Successfully installed asyncer-0.0.8 diskcache-5.6.3 docker-7.1.0 fast-depends-2.4.12 jedi-0.19.2 pyautogen-0.7.4 pydub-0.25.1 python-dotenv-1.0.1 tiktoken-0.9.0 wyn-voice-0.2.3\n"
          ]
        }
      ]
    },
    {
      "cell_type": "code",
      "source": [
        "from wyn_voice.chat import *\n",
        "from autogen import ConversableAgent\n",
        "from pydub import AudioSegment\n",
        "\n",
        "\n",
        "from google.colab import userdata\n",
        "OPENAI_API_KEY = userdata.get('OPENAI_API_KEY')\n",
        "\n",
        "\n",
        "from pathlib import Path\n",
        "from autogen.coding import CodeBlock, LocalCommandLineCodeExecutor\n",
        "\n",
        "work_dir = Path(\"coding\")\n",
        "work_dir.mkdir(exist_ok=True)\n",
        "executor = LocalCommandLineCodeExecutor(work_dir=work_dir)\n",
        "\n",
        "# Create an agent with code executor configuration.\n",
        "code_executor_agent = ConversableAgent(\n",
        "    \"code_executor_agent\",\n",
        "    llm_config=False,  # Turn off LLM for this agent.\n",
        "    code_execution_config={\"executor\": executor},  # Use the local command line code executor.\n",
        "    human_input_mode=\"NEVER\",  # Always take human input for this agent for safety.\n",
        ")"
      ],
      "metadata": {
        "id": "y2qYwcj1iR5E",
        "colab": {
          "base_uri": "https://localhost:8080/",
          "height": 0
        },
        "outputId": "d21d7715-c0c0-44fe-81ec-7212c16a0060"
      },
      "execution_count": 5,
      "outputs": [
        {
          "output_type": "stream",
          "name": "stderr",
          "text": [
            "/usr/local/lib/python3.11/dist-packages/pydantic/_internal/_generate_schema.py:502: UserWarning: <built-in function any> is not a Python type (it may be an instance of an object), Pydantic will allow any object with no validation since we cannot even enforce that the input is an instance of the given type. To get rid of this error wrap the type with `pydantic.SkipValidation`.\n",
            "  warn(\n"
          ]
        }
      ]
    },
    {
      "cell_type": "code",
      "source": [
        "# @title Choose a bot\n",
        "\n",
        "# Reinitiate bot\n",
        "# Example usage\n",
        "assistant_v1 = ChatBot(\n",
        "    api_key=OPENAI_API_KEY,\n",
        "    protocol=\"\"\"\n",
        "    You are a helpful assistant.\n",
        "\n",
        "    If user asks you python related question, you will ask question back and clarify it.\n",
        "    If all makes sense, you will write the python code for user.\n",
        "    If the python code is written from before, ask user whether they want to execute it.\n",
        "    \"\"\"\n",
        ")\n",
        "assistant_v2 = ChatBot(\n",
        "    api_key=OPENAI_API_KEY,\n",
        "    protocol=\"\"\"\n",
        "    You are a helpful assistant. You are an expert to recommend life style choices.\n",
        "    \"\"\"\n",
        ")\n",
        "assistant_v3 = ChatBot(\n",
        "    api_key=OPENAI_API_KEY,\n",
        "    protocol=\"\"\"\n",
        "    You are a therapist.\n",
        "\n",
        "    You are an expert at guiding people through mental health stresses and work situations.\n",
        "    You are a good listener and you take the patients (user) complain and try to understand it.\n",
        "    When user ask, you may suggest some life style choices to the user based on the user's complain.\n",
        "    \"\"\"\n",
        ")\n",
        "assistant_v4 = ChatBot(\n",
        "    api_key=OPENAI_API_KEY,\n",
        "    protocol=\"\"\"\n",
        "    You are a McDonald drivethrough service assistant.\n",
        "\n",
        "    Here's a menu for the day:\n",
        "\n",
        "    | Item                       | Price  | Calories |\n",
        "    |----------------------------|--------|----------|\n",
        "    | Big Mac                    |\n",
        "6.49  | 750      |\n",
        "    | McChicken                  |\n",
        "4.99  | 390      |\n",
        "    | French Fries (Medium)      |\n",
        "5.49  | 480      |\n",
        "    | McDouble                   |\n",
        "3.99  | 300      |\n",
        "    | Sausage Biscuit            |\n",
        "1.49  | 240      |\n",
        "\n",
        "    You are designed to serve the cutomer with the best price and calories combination.\n",
        "\n",
        "    User will ask you some questions and price and calories.\n",
        "\n",
        "    Ask user if they are ready to confirm the order.\n",
        "\n",
        "    If user is ready to confirm the order, write a python code for the order. The python code saves the order in a csv file.\n",
        "    If user is not ready to confirm the order, ask user if there's anything to add.\n",
        "\n",
        "    \"\"\"\n",
        ")\n",
        "\n",
        "# Choose assistant\n",
        "value = \"Coding Helper\" # @param [\"Coding Helper\", \"Lifestyle Helper\", \"Therapist\", \"Drivethrough\"]\n",
        "\n",
        "def set_assistant():\n",
        "    if value == \"Coding Helper\":\n",
        "        assistant = assistant_v1\n",
        "    elif value == \"Lifestyle Helper\":\n",
        "        assistant = assistant_v2\n",
        "    elif value == \"Drivethrough\":\n",
        "        assistant = assistant_v3\n",
        "    else:\n",
        "        assistant = assistant_v4\n",
        "    audio_processor = AudioProcessor(bot=assistant)\n",
        "\n",
        "    return assistant, audio_processor\n",
        "\n",
        "assistant, audio_processor = set_assistant()\n"
      ],
      "metadata": {
        "id": "OLA4iS35iXZV"
      },
      "execution_count": 6,
      "outputs": []
    },
    {
      "cell_type": "code",
      "source": [
        "!pip install wyn-voice pyautogen pydub\n",
        "from wyn_voice.chat import *\n",
        "from autogen import ConversableAgent\n",
        "from pydub import AudioSegment\n",
        "\n",
        "from google.colab import userdata\n",
        "OPENAI_API_KEY = userdata.get('OPENAI_API_KEY')\n",
        "\n",
        "from pathlib import Path\n",
        "from autogen.coding import CodeBlock, LocalCommandLineCodeExecutor\n",
        "\n",
        "work_dir = Path(\"coding\")\n",
        "work_dir.mkdir(exist_ok=True)\n",
        "executor = LocalCommandLineCodeExecutor(work_dir=work_dir)\n",
        "\n",
        "# Create an agent with code executor configuration.\n",
        "code_executor_agent = ConversableAgent(  # Define code_executor_agent here\n",
        "    \"code_executor_agent\",\n",
        "    llm_config=False,\n",
        "    code_execution_config={\"executor\": executor},\n",
        "    human_input_mode=\"NEVER\",\n",
        ")\n"
      ],
      "metadata": {
        "colab": {
          "base_uri": "https://localhost:8080/",
          "height": 0
        },
        "id": "BhILD2ch8t_h",
        "outputId": "c83359de-3b2e-45f2-c068-dd4df3c3995a"
      },
      "execution_count": 7,
      "outputs": [
        {
          "output_type": "stream",
          "name": "stdout",
          "text": [
            "Requirement already satisfied: wyn-voice in /usr/local/lib/python3.11/dist-packages (0.2.3)\n",
            "Requirement already satisfied: pyautogen in /usr/local/lib/python3.11/dist-packages (0.7.4)\n",
            "Requirement already satisfied: pydub in /usr/local/lib/python3.11/dist-packages (0.25.1)\n",
            "Requirement already satisfied: google-colab<2.0.0,>=1.0.0 in /usr/local/lib/python3.11/dist-packages (from wyn-voice) (1.0.0)\n",
            "Requirement already satisfied: ipython==7.34.0 in /usr/local/lib/python3.11/dist-packages (from wyn-voice) (7.34.0)\n",
            "Requirement already satisfied: openai<2.0.0,>=1.35.14 in /usr/local/lib/python3.11/dist-packages (from wyn-voice) (1.61.1)\n",
            "Requirement already satisfied: setuptools>=18.5 in /usr/local/lib/python3.11/dist-packages (from ipython==7.34.0->wyn-voice) (75.1.0)\n",
            "Requirement already satisfied: jedi>=0.16 in /usr/local/lib/python3.11/dist-packages (from ipython==7.34.0->wyn-voice) (0.19.2)\n",
            "Requirement already satisfied: decorator in /usr/local/lib/python3.11/dist-packages (from ipython==7.34.0->wyn-voice) (4.4.2)\n",
            "Requirement already satisfied: pickleshare in /usr/local/lib/python3.11/dist-packages (from ipython==7.34.0->wyn-voice) (0.7.5)\n",
            "Requirement already satisfied: traitlets>=4.2 in /usr/local/lib/python3.11/dist-packages (from ipython==7.34.0->wyn-voice) (5.7.1)\n",
            "Requirement already satisfied: prompt-toolkit!=3.0.0,!=3.0.1,<3.1.0,>=2.0.0 in /usr/local/lib/python3.11/dist-packages (from ipython==7.34.0->wyn-voice) (3.0.50)\n",
            "Requirement already satisfied: pygments in /usr/local/lib/python3.11/dist-packages (from ipython==7.34.0->wyn-voice) (2.18.0)\n",
            "Requirement already satisfied: backcall in /usr/local/lib/python3.11/dist-packages (from ipython==7.34.0->wyn-voice) (0.2.0)\n",
            "Requirement already satisfied: matplotlib-inline in /usr/local/lib/python3.11/dist-packages (from ipython==7.34.0->wyn-voice) (0.1.7)\n",
            "Requirement already satisfied: pexpect>4.3 in /usr/local/lib/python3.11/dist-packages (from ipython==7.34.0->wyn-voice) (4.9.0)\n",
            "Requirement already satisfied: asyncer==0.0.8 in /usr/local/lib/python3.11/dist-packages (from pyautogen) (0.0.8)\n",
            "Requirement already satisfied: diskcache in /usr/local/lib/python3.11/dist-packages (from pyautogen) (5.6.3)\n",
            "Requirement already satisfied: docker in /usr/local/lib/python3.11/dist-packages (from pyautogen) (7.1.0)\n",
            "Requirement already satisfied: fast-depends<3,>=2.4.12 in /usr/local/lib/python3.11/dist-packages (from pyautogen) (2.4.12)\n",
            "Requirement already satisfied: numpy in /usr/local/lib/python3.11/dist-packages (from pyautogen) (1.26.4)\n",
            "Requirement already satisfied: packaging in /usr/local/lib/python3.11/dist-packages (from pyautogen) (24.2)\n",
            "Requirement already satisfied: pydantic<3,>=2.6.1 in /usr/local/lib/python3.11/dist-packages (from pyautogen) (2.10.6)\n",
            "Requirement already satisfied: python-dotenv in /usr/local/lib/python3.11/dist-packages (from pyautogen) (1.0.1)\n",
            "Requirement already satisfied: termcolor in /usr/local/lib/python3.11/dist-packages (from pyautogen) (2.5.0)\n",
            "Requirement already satisfied: tiktoken in /usr/local/lib/python3.11/dist-packages (from pyautogen) (0.9.0)\n",
            "Requirement already satisfied: websockets<15,>=14 in /usr/local/lib/python3.11/dist-packages (from pyautogen) (14.2)\n",
            "Requirement already satisfied: anyio<5.0,>=3.4.0 in /usr/local/lib/python3.11/dist-packages (from asyncer==0.0.8->pyautogen) (3.7.1)\n",
            "Requirement already satisfied: google-auth==2.27.0 in /usr/local/lib/python3.11/dist-packages (from google-colab<2.0.0,>=1.0.0->wyn-voice) (2.27.0)\n",
            "Requirement already satisfied: ipykernel==5.5.6 in /usr/local/lib/python3.11/dist-packages (from google-colab<2.0.0,>=1.0.0->wyn-voice) (5.5.6)\n",
            "Requirement already satisfied: ipyparallel==8.8.0 in /usr/local/lib/python3.11/dist-packages (from google-colab<2.0.0,>=1.0.0->wyn-voice) (8.8.0)\n",
            "Requirement already satisfied: notebook==6.5.5 in /usr/local/lib/python3.11/dist-packages (from google-colab<2.0.0,>=1.0.0->wyn-voice) (6.5.5)\n",
            "Requirement already satisfied: pandas==2.2.2 in /usr/local/lib/python3.11/dist-packages (from google-colab<2.0.0,>=1.0.0->wyn-voice) (2.2.2)\n",
            "Requirement already satisfied: portpicker==1.5.2 in /usr/local/lib/python3.11/dist-packages (from google-colab<2.0.0,>=1.0.0->wyn-voice) (1.5.2)\n",
            "Requirement already satisfied: requests==2.32.3 in /usr/local/lib/python3.11/dist-packages (from google-colab<2.0.0,>=1.0.0->wyn-voice) (2.32.3)\n",
            "Requirement already satisfied: tornado==6.4.2 in /usr/local/lib/python3.11/dist-packages (from google-colab<2.0.0,>=1.0.0->wyn-voice) (6.4.2)\n",
            "Requirement already satisfied: cachetools<6.0,>=2.0.0 in /usr/local/lib/python3.11/dist-packages (from google-auth==2.27.0->google-colab<2.0.0,>=1.0.0->wyn-voice) (5.5.1)\n",
            "Requirement already satisfied: pyasn1-modules>=0.2.1 in /usr/local/lib/python3.11/dist-packages (from google-auth==2.27.0->google-colab<2.0.0,>=1.0.0->wyn-voice) (0.4.1)\n",
            "Requirement already satisfied: rsa<5,>=3.1.4 in /usr/local/lib/python3.11/dist-packages (from google-auth==2.27.0->google-colab<2.0.0,>=1.0.0->wyn-voice) (4.9)\n",
            "Requirement already satisfied: ipython-genutils in /usr/local/lib/python3.11/dist-packages (from ipykernel==5.5.6->google-colab<2.0.0,>=1.0.0->wyn-voice) (0.2.0)\n",
            "Requirement already satisfied: jupyter-client in /usr/local/lib/python3.11/dist-packages (from ipykernel==5.5.6->google-colab<2.0.0,>=1.0.0->wyn-voice) (6.1.12)\n",
            "Requirement already satisfied: entrypoints in /usr/local/lib/python3.11/dist-packages (from ipyparallel==8.8.0->google-colab<2.0.0,>=1.0.0->wyn-voice) (0.4)\n",
            "Requirement already satisfied: psutil in /usr/local/lib/python3.11/dist-packages (from ipyparallel==8.8.0->google-colab<2.0.0,>=1.0.0->wyn-voice) (5.9.5)\n",
            "Requirement already satisfied: python-dateutil>=2.1 in /usr/local/lib/python3.11/dist-packages (from ipyparallel==8.8.0->google-colab<2.0.0,>=1.0.0->wyn-voice) (2.8.2)\n",
            "Requirement already satisfied: pyzmq>=18 in /usr/local/lib/python3.11/dist-packages (from ipyparallel==8.8.0->google-colab<2.0.0,>=1.0.0->wyn-voice) (24.0.1)\n",
            "Requirement already satisfied: tqdm in /usr/local/lib/python3.11/dist-packages (from ipyparallel==8.8.0->google-colab<2.0.0,>=1.0.0->wyn-voice) (4.67.1)\n",
            "Requirement already satisfied: jinja2 in /usr/local/lib/python3.11/dist-packages (from notebook==6.5.5->google-colab<2.0.0,>=1.0.0->wyn-voice) (3.1.5)\n",
            "Requirement already satisfied: argon2-cffi in /usr/local/lib/python3.11/dist-packages (from notebook==6.5.5->google-colab<2.0.0,>=1.0.0->wyn-voice) (23.1.0)\n",
            "Requirement already satisfied: jupyter-core>=4.6.1 in /usr/local/lib/python3.11/dist-packages (from notebook==6.5.5->google-colab<2.0.0,>=1.0.0->wyn-voice) (5.7.2)\n",
            "Requirement already satisfied: nbformat in /usr/local/lib/python3.11/dist-packages (from notebook==6.5.5->google-colab<2.0.0,>=1.0.0->wyn-voice) (5.10.4)\n",
            "Requirement already satisfied: nbconvert>=5 in /usr/local/lib/python3.11/dist-packages (from notebook==6.5.5->google-colab<2.0.0,>=1.0.0->wyn-voice) (7.16.6)\n",
            "Requirement already satisfied: nest-asyncio>=1.5 in /usr/local/lib/python3.11/dist-packages (from notebook==6.5.5->google-colab<2.0.0,>=1.0.0->wyn-voice) (1.6.0)\n",
            "Requirement already satisfied: Send2Trash>=1.8.0 in /usr/local/lib/python3.11/dist-packages (from notebook==6.5.5->google-colab<2.0.0,>=1.0.0->wyn-voice) (1.8.3)\n",
            "Requirement already satisfied: terminado>=0.8.3 in /usr/local/lib/python3.11/dist-packages (from notebook==6.5.5->google-colab<2.0.0,>=1.0.0->wyn-voice) (0.18.1)\n",
            "Requirement already satisfied: prometheus-client in /usr/local/lib/python3.11/dist-packages (from notebook==6.5.5->google-colab<2.0.0,>=1.0.0->wyn-voice) (0.21.1)\n",
            "Requirement already satisfied: nbclassic>=0.4.7 in /usr/local/lib/python3.11/dist-packages (from notebook==6.5.5->google-colab<2.0.0,>=1.0.0->wyn-voice) (1.2.0)\n",
            "Requirement already satisfied: pytz>=2020.1 in /usr/local/lib/python3.11/dist-packages (from pandas==2.2.2->google-colab<2.0.0,>=1.0.0->wyn-voice) (2025.1)\n",
            "Requirement already satisfied: tzdata>=2022.7 in /usr/local/lib/python3.11/dist-packages (from pandas==2.2.2->google-colab<2.0.0,>=1.0.0->wyn-voice) (2025.1)\n",
            "Requirement already satisfied: charset-normalizer<4,>=2 in /usr/local/lib/python3.11/dist-packages (from requests==2.32.3->google-colab<2.0.0,>=1.0.0->wyn-voice) (3.4.1)\n",
            "Requirement already satisfied: idna<4,>=2.5 in /usr/local/lib/python3.11/dist-packages (from requests==2.32.3->google-colab<2.0.0,>=1.0.0->wyn-voice) (3.10)\n",
            "Requirement already satisfied: urllib3<3,>=1.21.1 in /usr/local/lib/python3.11/dist-packages (from requests==2.32.3->google-colab<2.0.0,>=1.0.0->wyn-voice) (2.3.0)\n",
            "Requirement already satisfied: certifi>=2017.4.17 in /usr/local/lib/python3.11/dist-packages (from requests==2.32.3->google-colab<2.0.0,>=1.0.0->wyn-voice) (2025.1.31)\n",
            "Requirement already satisfied: distro<2,>=1.7.0 in /usr/local/lib/python3.11/dist-packages (from openai<2.0.0,>=1.35.14->wyn-voice) (1.9.0)\n",
            "Requirement already satisfied: httpx<1,>=0.23.0 in /usr/local/lib/python3.11/dist-packages (from openai<2.0.0,>=1.35.14->wyn-voice) (0.28.1)\n",
            "Requirement already satisfied: jiter<1,>=0.4.0 in /usr/local/lib/python3.11/dist-packages (from openai<2.0.0,>=1.35.14->wyn-voice) (0.8.2)\n",
            "Requirement already satisfied: sniffio in /usr/local/lib/python3.11/dist-packages (from openai<2.0.0,>=1.35.14->wyn-voice) (1.3.1)\n",
            "Requirement already satisfied: typing-extensions<5,>=4.11 in /usr/local/lib/python3.11/dist-packages (from openai<2.0.0,>=1.35.14->wyn-voice) (4.12.2)\n",
            "Requirement already satisfied: annotated-types>=0.6.0 in /usr/local/lib/python3.11/dist-packages (from pydantic<3,>=2.6.1->pyautogen) (0.7.0)\n",
            "Requirement already satisfied: pydantic-core==2.27.2 in /usr/local/lib/python3.11/dist-packages (from pydantic<3,>=2.6.1->pyautogen) (2.27.2)\n",
            "Requirement already satisfied: regex>=2022.1.18 in /usr/local/lib/python3.11/dist-packages (from tiktoken->pyautogen) (2024.11.6)\n",
            "Requirement already satisfied: httpcore==1.* in /usr/local/lib/python3.11/dist-packages (from httpx<1,>=0.23.0->openai<2.0.0,>=1.35.14->wyn-voice) (1.0.7)\n",
            "Requirement already satisfied: h11<0.15,>=0.13 in /usr/local/lib/python3.11/dist-packages (from httpcore==1.*->httpx<1,>=0.23.0->openai<2.0.0,>=1.35.14->wyn-voice) (0.14.0)\n",
            "Requirement already satisfied: parso<0.9.0,>=0.8.4 in /usr/local/lib/python3.11/dist-packages (from jedi>=0.16->ipython==7.34.0->wyn-voice) (0.8.4)\n",
            "Requirement already satisfied: ptyprocess>=0.5 in /usr/local/lib/python3.11/dist-packages (from pexpect>4.3->ipython==7.34.0->wyn-voice) (0.7.0)\n",
            "Requirement already satisfied: wcwidth in /usr/local/lib/python3.11/dist-packages (from prompt-toolkit!=3.0.0,!=3.0.1,<3.1.0,>=2.0.0->ipython==7.34.0->wyn-voice) (0.2.13)\n",
            "Requirement already satisfied: platformdirs>=2.5 in /usr/local/lib/python3.11/dist-packages (from jupyter-core>=4.6.1->notebook==6.5.5->google-colab<2.0.0,>=1.0.0->wyn-voice) (4.3.6)\n",
            "Requirement already satisfied: notebook-shim>=0.2.3 in /usr/local/lib/python3.11/dist-packages (from nbclassic>=0.4.7->notebook==6.5.5->google-colab<2.0.0,>=1.0.0->wyn-voice) (0.2.4)\n",
            "Requirement already satisfied: beautifulsoup4 in /usr/local/lib/python3.11/dist-packages (from nbconvert>=5->notebook==6.5.5->google-colab<2.0.0,>=1.0.0->wyn-voice) (4.13.3)\n",
            "Requirement already satisfied: bleach!=5.0.0 in /usr/local/lib/python3.11/dist-packages (from bleach[css]!=5.0.0->nbconvert>=5->notebook==6.5.5->google-colab<2.0.0,>=1.0.0->wyn-voice) (6.2.0)\n",
            "Requirement already satisfied: defusedxml in /usr/local/lib/python3.11/dist-packages (from nbconvert>=5->notebook==6.5.5->google-colab<2.0.0,>=1.0.0->wyn-voice) (0.7.1)\n",
            "Requirement already satisfied: jupyterlab-pygments in /usr/local/lib/python3.11/dist-packages (from nbconvert>=5->notebook==6.5.5->google-colab<2.0.0,>=1.0.0->wyn-voice) (0.3.0)\n",
            "Requirement already satisfied: markupsafe>=2.0 in /usr/local/lib/python3.11/dist-packages (from nbconvert>=5->notebook==6.5.5->google-colab<2.0.0,>=1.0.0->wyn-voice) (3.0.2)\n",
            "Requirement already satisfied: mistune<4,>=2.0.3 in /usr/local/lib/python3.11/dist-packages (from nbconvert>=5->notebook==6.5.5->google-colab<2.0.0,>=1.0.0->wyn-voice) (3.1.1)\n",
            "Requirement already satisfied: nbclient>=0.5.0 in /usr/local/lib/python3.11/dist-packages (from nbconvert>=5->notebook==6.5.5->google-colab<2.0.0,>=1.0.0->wyn-voice) (0.10.2)\n",
            "Requirement already satisfied: pandocfilters>=1.4.1 in /usr/local/lib/python3.11/dist-packages (from nbconvert>=5->notebook==6.5.5->google-colab<2.0.0,>=1.0.0->wyn-voice) (1.5.1)\n",
            "Requirement already satisfied: fastjsonschema>=2.15 in /usr/local/lib/python3.11/dist-packages (from nbformat->notebook==6.5.5->google-colab<2.0.0,>=1.0.0->wyn-voice) (2.21.1)\n",
            "Requirement already satisfied: jsonschema>=2.6 in /usr/local/lib/python3.11/dist-packages (from nbformat->notebook==6.5.5->google-colab<2.0.0,>=1.0.0->wyn-voice) (4.23.0)\n",
            "Requirement already satisfied: pyasn1<0.7.0,>=0.4.6 in /usr/local/lib/python3.11/dist-packages (from pyasn1-modules>=0.2.1->google-auth==2.27.0->google-colab<2.0.0,>=1.0.0->wyn-voice) (0.6.1)\n",
            "Requirement already satisfied: six>=1.5 in /usr/local/lib/python3.11/dist-packages (from python-dateutil>=2.1->ipyparallel==8.8.0->google-colab<2.0.0,>=1.0.0->wyn-voice) (1.17.0)\n",
            "Requirement already satisfied: argon2-cffi-bindings in /usr/local/lib/python3.11/dist-packages (from argon2-cffi->notebook==6.5.5->google-colab<2.0.0,>=1.0.0->wyn-voice) (21.2.0)\n",
            "Requirement already satisfied: webencodings in /usr/local/lib/python3.11/dist-packages (from bleach!=5.0.0->bleach[css]!=5.0.0->nbconvert>=5->notebook==6.5.5->google-colab<2.0.0,>=1.0.0->wyn-voice) (0.5.1)\n",
            "Requirement already satisfied: tinycss2<1.5,>=1.1.0 in /usr/local/lib/python3.11/dist-packages (from bleach[css]!=5.0.0->nbconvert>=5->notebook==6.5.5->google-colab<2.0.0,>=1.0.0->wyn-voice) (1.4.0)\n",
            "Requirement already satisfied: attrs>=22.2.0 in /usr/local/lib/python3.11/dist-packages (from jsonschema>=2.6->nbformat->notebook==6.5.5->google-colab<2.0.0,>=1.0.0->wyn-voice) (25.1.0)\n",
            "Requirement already satisfied: jsonschema-specifications>=2023.03.6 in /usr/local/lib/python3.11/dist-packages (from jsonschema>=2.6->nbformat->notebook==6.5.5->google-colab<2.0.0,>=1.0.0->wyn-voice) (2024.10.1)\n",
            "Requirement already satisfied: referencing>=0.28.4 in /usr/local/lib/python3.11/dist-packages (from jsonschema>=2.6->nbformat->notebook==6.5.5->google-colab<2.0.0,>=1.0.0->wyn-voice) (0.36.2)\n",
            "Requirement already satisfied: rpds-py>=0.7.1 in /usr/local/lib/python3.11/dist-packages (from jsonschema>=2.6->nbformat->notebook==6.5.5->google-colab<2.0.0,>=1.0.0->wyn-voice) (0.22.3)\n",
            "Requirement already satisfied: jupyter-server<3,>=1.8 in /usr/local/lib/python3.11/dist-packages (from notebook-shim>=0.2.3->nbclassic>=0.4.7->notebook==6.5.5->google-colab<2.0.0,>=1.0.0->wyn-voice) (1.24.0)\n",
            "Requirement already satisfied: cffi>=1.0.1 in /usr/local/lib/python3.11/dist-packages (from argon2-cffi-bindings->argon2-cffi->notebook==6.5.5->google-colab<2.0.0,>=1.0.0->wyn-voice) (1.17.1)\n",
            "Requirement already satisfied: soupsieve>1.2 in /usr/local/lib/python3.11/dist-packages (from beautifulsoup4->nbconvert>=5->notebook==6.5.5->google-colab<2.0.0,>=1.0.0->wyn-voice) (2.6)\n",
            "Requirement already satisfied: pycparser in /usr/local/lib/python3.11/dist-packages (from cffi>=1.0.1->argon2-cffi-bindings->argon2-cffi->notebook==6.5.5->google-colab<2.0.0,>=1.0.0->wyn-voice) (2.22)\n",
            "Requirement already satisfied: websocket-client in /usr/local/lib/python3.11/dist-packages (from jupyter-server<3,>=1.8->notebook-shim>=0.2.3->nbclassic>=0.4.7->notebook==6.5.5->google-colab<2.0.0,>=1.0.0->wyn-voice) (1.8.0)\n"
          ]
        }
      ]
    },
    {
      "cell_type": "code",
      "source": [
        "!pip install \"openai==1.42.0\"\n",
        "from google.colab import userdata\n",
        "OPENAI_API_KEY = userdata.get('OPENAI_API_KEY')\n"
      ],
      "metadata": {
        "colab": {
          "base_uri": "https://localhost:8080/",
          "height": 0
        },
        "id": "yzVPV3d3jB9Q",
        "outputId": "8c6c795a-a827-4dfc-dc2e-bd4f8c092ef2"
      },
      "execution_count": 8,
      "outputs": [
        {
          "output_type": "stream",
          "name": "stdout",
          "text": [
            "Collecting openai==1.42.0\n",
            "  Downloading openai-1.42.0-py3-none-any.whl.metadata (22 kB)\n",
            "Requirement already satisfied: anyio<5,>=3.5.0 in /usr/local/lib/python3.11/dist-packages (from openai==1.42.0) (3.7.1)\n",
            "Requirement already satisfied: distro<2,>=1.7.0 in /usr/local/lib/python3.11/dist-packages (from openai==1.42.0) (1.9.0)\n",
            "Requirement already satisfied: httpx<1,>=0.23.0 in /usr/local/lib/python3.11/dist-packages (from openai==1.42.0) (0.28.1)\n",
            "Requirement already satisfied: jiter<1,>=0.4.0 in /usr/local/lib/python3.11/dist-packages (from openai==1.42.0) (0.8.2)\n",
            "Requirement already satisfied: pydantic<3,>=1.9.0 in /usr/local/lib/python3.11/dist-packages (from openai==1.42.0) (2.10.6)\n",
            "Requirement already satisfied: sniffio in /usr/local/lib/python3.11/dist-packages (from openai==1.42.0) (1.3.1)\n",
            "Requirement already satisfied: tqdm>4 in /usr/local/lib/python3.11/dist-packages (from openai==1.42.0) (4.67.1)\n",
            "Requirement already satisfied: typing-extensions<5,>=4.11 in /usr/local/lib/python3.11/dist-packages (from openai==1.42.0) (4.12.2)\n",
            "Requirement already satisfied: idna>=2.8 in /usr/local/lib/python3.11/dist-packages (from anyio<5,>=3.5.0->openai==1.42.0) (3.10)\n",
            "Requirement already satisfied: certifi in /usr/local/lib/python3.11/dist-packages (from httpx<1,>=0.23.0->openai==1.42.0) (2025.1.31)\n",
            "Requirement already satisfied: httpcore==1.* in /usr/local/lib/python3.11/dist-packages (from httpx<1,>=0.23.0->openai==1.42.0) (1.0.7)\n",
            "Requirement already satisfied: h11<0.15,>=0.13 in /usr/local/lib/python3.11/dist-packages (from httpcore==1.*->httpx<1,>=0.23.0->openai==1.42.0) (0.14.0)\n",
            "Requirement already satisfied: annotated-types>=0.6.0 in /usr/local/lib/python3.11/dist-packages (from pydantic<3,>=1.9.0->openai==1.42.0) (0.7.0)\n",
            "Requirement already satisfied: pydantic-core==2.27.2 in /usr/local/lib/python3.11/dist-packages (from pydantic<3,>=1.9.0->openai==1.42.0) (2.27.2)\n",
            "Downloading openai-1.42.0-py3-none-any.whl (362 kB)\n",
            "\u001b[?25l   \u001b[90m━━━━━━━━━━━━━━━━━━━━━━━━━━━━━━━━━━━━━━━━\u001b[0m \u001b[32m0.0/362.9 kB\u001b[0m \u001b[31m?\u001b[0m eta \u001b[36m-:--:--\u001b[0m\r\u001b[2K   \u001b[90m━━━━━━━━━━━━━━━━━━━━━━━━━━━━━━━━━━━━━━━━\u001b[0m \u001b[32m362.9/362.9 kB\u001b[0m \u001b[31m23.4 MB/s\u001b[0m eta \u001b[36m0:00:00\u001b[0m\n",
            "\u001b[?25hInstalling collected packages: openai\n",
            "  Attempting uninstall: openai\n",
            "    Found existing installation: openai 1.61.1\n",
            "    Uninstalling openai-1.61.1:\n",
            "      Successfully uninstalled openai-1.61.1\n",
            "\u001b[31mERROR: pip's dependency resolver does not currently take into account all the packages that are installed. This behaviour is the source of the following dependency conflicts.\n",
            "pyautogen 0.7.4 requires openai>=1.58, but you have openai 1.42.0 which is incompatible.\u001b[0m\u001b[31m\n",
            "\u001b[0mSuccessfully installed openai-1.42.0\n"
          ]
        }
      ]
    },
    {
      "cell_type": "code",
      "source": [
        "from openai import OpenAI\n",
        "client = OpenAI(api_key=OPENAI_API_KEY)\n"
      ],
      "metadata": {
        "id": "WvtkN_1ml8Jf"
      },
      "execution_count": 9,
      "outputs": []
    },
    {
      "cell_type": "code",
      "source": [],
      "metadata": {
        "id": "UeUVw9mEQ69O"
      },
      "execution_count": null,
      "outputs": []
    },
    {
      "cell_type": "code",
      "source": [
        "result_from_news = response = client.chat.completions.create(\n",
        "  model=\"gpt-3.5-turbo\",\n",
        "  messages=[\n",
        "    {\"role\": \"system\", \"content\": \"You are a helpful assistant.\"},\n",
        "    {\"role\": \"user\", \"content\": \"tell me something i dont hear\"}\n",
        "  ]\n",
        ")"
      ],
      "metadata": {
        "id": "m3McTpnJmDDH"
      },
      "execution_count": 10,
      "outputs": []
    },
    {
      "cell_type": "code",
      "source": [
        "\n",
        "response.choices[0].message.content"
      ],
      "metadata": {
        "colab": {
          "base_uri": "https://localhost:8080/",
          "height": 53
        },
        "id": "jZdurhDpmtDb",
        "outputId": "190e95e5-e8ec-48e0-8aa5-c30a78bd95bd"
      },
      "execution_count": 11,
      "outputs": [
        {
          "output_type": "execute_result",
          "data": {
            "text/plain": [
              "'Did you know that honey never spoils? Archaeologists have found pots of honey in ancient Egyptian tombs that are over 3000 years old and still perfectly edible!'"
            ],
            "application/vnd.google.colaboratory.intrinsic+json": {
              "type": "string"
            }
          },
          "metadata": {},
          "execution_count": 11
        }
      ]
    },
    {
      "cell_type": "code",
      "source": [
        "\n",
        "! pip install serpapi google-search-results"
      ],
      "metadata": {
        "colab": {
          "base_uri": "https://localhost:8080/",
          "height": 0
        },
        "id": "A-zWJvQqEkUk",
        "outputId": "b12979b5-6cb9-4228-f1b3-af77b97a9ee9"
      },
      "execution_count": 12,
      "outputs": [
        {
          "output_type": "stream",
          "name": "stdout",
          "text": [
            "Collecting serpapi\n",
            "  Downloading serpapi-0.1.5-py2.py3-none-any.whl.metadata (10 kB)\n",
            "Collecting google-search-results\n",
            "  Downloading google_search_results-2.4.2.tar.gz (18 kB)\n",
            "  Preparing metadata (setup.py) ... \u001b[?25l\u001b[?25hdone\n",
            "Requirement already satisfied: requests in /usr/local/lib/python3.11/dist-packages (from serpapi) (2.32.3)\n",
            "Requirement already satisfied: charset-normalizer<4,>=2 in /usr/local/lib/python3.11/dist-packages (from requests->serpapi) (3.4.1)\n",
            "Requirement already satisfied: idna<4,>=2.5 in /usr/local/lib/python3.11/dist-packages (from requests->serpapi) (3.10)\n",
            "Requirement already satisfied: urllib3<3,>=1.21.1 in /usr/local/lib/python3.11/dist-packages (from requests->serpapi) (2.3.0)\n",
            "Requirement already satisfied: certifi>=2017.4.17 in /usr/local/lib/python3.11/dist-packages (from requests->serpapi) (2025.1.31)\n",
            "Downloading serpapi-0.1.5-py2.py3-none-any.whl (10 kB)\n",
            "Building wheels for collected packages: google-search-results\n",
            "  Building wheel for google-search-results (setup.py) ... \u001b[?25l\u001b[?25hdone\n",
            "  Created wheel for google-search-results: filename=google_search_results-2.4.2-py3-none-any.whl size=32009 sha256=d1e12c5bd76f2a171f3d36197c34e7fead5c0ddecade98b3d5daf423c6b301f7\n",
            "  Stored in directory: /root/.cache/pip/wheels/6e/42/3e/aeb691b02cb7175ec70e2da04b5658d4739d2b41e5f73cd06f\n",
            "Successfully built google-search-results\n",
            "Installing collected packages: serpapi, google-search-results\n",
            "Successfully installed google-search-results-2.4.2 serpapi-0.1.5\n"
          ]
        }
      ]
    },
    {
      "cell_type": "code",
      "source": [
        "\n",
        "from google.colab import userdata\n",
        "SERPAPI_API_KEY = userdata.get('SERPAPI_API_KEY')\n"
      ],
      "metadata": {
        "id": "7zzp-FxUEofD"
      },
      "execution_count": 13,
      "outputs": []
    },
    {
      "cell_type": "code",
      "source": [
        "from serpapi import GoogleSearch\n",
        "from typing import List, Dict, Any\n",
        "\n",
        "def search_serpapi(query: str, api_key: str) -> List[Dict[str, Any]]:\n",
        "    \"\"\"\n",
        "    Search using SerpAPI for the given query and return the results.\n",
        "\n",
        "    :param query: The search query string.\n",
        "    :param api_key: Your SerpAPI key.\n",
        "    :return: A list of search results.\n",
        "    :raises Exception: For any errors during the request.\n",
        "    \"\"\"\n",
        "    try:\n",
        "        search = GoogleSearch({\n",
        "            \"q\": query,\n",
        "            \"location\": \"Austin, Texas, United States\",\n",
        "            \"api_key\": api_key\n",
        "        })\n",
        "        results = search.get_dict()\n",
        "        return results.get(\"organic_results\", [])\n",
        "    except Exception as e:\n",
        "        raise Exception(f\"An error occurred: {e}\")\n"
      ],
      "metadata": {
        "id": "CqIBRunZEoct"
      },
      "execution_count": 14,
      "outputs": []
    },
    {
      "cell_type": "code",
      "source": [
        "\n",
        "# Example usage:\n",
        "if __name__ == \"__main__\":\n",
        "    query = \"How will AI impact the job market in the next 10 years?\"\n",
        "    try:\n",
        "        results = search_serpapi(query, SERPAPI_API_KEY)\n",
        "        response = []\n",
        "        for result in results:\n",
        "            print(f\"Title: {result['title']}\")\n",
        "            print(f\"Link: {result['link']}\\n\")\n",
        "            response.append({\n",
        "                \"title\": result['title'],\n",
        "                \"link\": result['link']\n",
        "            })\n",
        "    except Exception as e:\n",
        "        print(f\"Failed to fetch data: {e}\")"
      ],
      "metadata": {
        "colab": {
          "base_uri": "https://localhost:8080/",
          "height": 0
        },
        "id": "XbdMbAryEoaL",
        "outputId": "a59cb861-4449-4f41-a5f4-9d754db2c48c"
      },
      "execution_count": 33,
      "outputs": [
        {
          "output_type": "stream",
          "name": "stdout",
          "text": [
            "Title: How Will Artificial Intelligence Affect Jobs 2024-2030\n",
            "Link: https://www.nexford.edu/insights/how-will-ai-affect-jobs\n",
            "\n",
            "Title: How Is AI Impacting the Job Market?\n",
            "Link: https://www.linqto.com/blog/how-is-artificial-intelligence-impacting-the-job-market/\n",
            "\n",
            "Title: Generative AI and the future of work in America\n",
            "Link: https://www.mckinsey.com/mgi/our-research/generative-ai-and-the-future-of-work-in-america\n",
            "\n",
            "Title: Most workers think AI will affect their jobs. They disagree ...\n",
            "Link: https://www.adpresearch.com/worker-sentiment-ai-impact/\n",
            "\n",
            "Title: Why there will be plenty of jobs in the future - even with AI\n",
            "Link: https://www.weforum.org/stories/2024/02/artificial-intelligence-ai-jobs-future/\n",
            "\n",
            "Title: 4 Ways AI Impacts the Job Market & Employment Trends\n",
            "Link: https://onlinedegrees.sandiego.edu/ai-impact-on-job-market/\n",
            "\n",
            "Title: AI Replacing Jobs Statistics: The Impact on Employment in ...\n",
            "Link: https://seo.ai/blog/ai-replacing-jobs-statistics\n",
            "\n"
          ]
        }
      ]
    },
    {
      "cell_type": "code",
      "source": [
        "!pip install requests beautifulsoup4 sentence-transformers transformers\n",
        "import requests\n",
        "from bs4 import BeautifulSoup\n",
        "\n",
        "from sentence_transformers import SentenceTransformer, util\n",
        "from transformers import pipeline\n",
        "\n",
        "def rate_url_validity(user_query: str, url: str) -> dict:\n",
        "    \"\"\"\n",
        "    Evaluates the validity of a given URL by: computing various metrics including\n",
        "    domain trust, content relevance, fact-checking, bias, and citation scores.\n",
        "\n",
        "    Args:\n",
        "        user_query (str): The user's original query\n",
        "        url (str): The URL to analyze\n",
        "\n",
        "    Returns:\n",
        "        dict: A dictionary containing scores for different validity aspects\n",
        "    \"\"\"\n",
        "\n",
        "    # Step 1: Fetch Page Content\n",
        "    try:\n",
        "        response = requests.get(url, timeout=10)\n",
        "        response.raise_for_status()\n",
        "        soup = BeautifulSoup(response.text, \"html.parser\")\n",
        "        page_text = \" \".join([p.text for p in soup.find_all(\"p\")])\n",
        "    except Exception as e:\n",
        "        return {\"error\": f\"Failed to fetch content: {str(e)}\"}\n",
        "\n",
        "    # Step 2: Domain Authority Check (Placeholder - Replace with Moz API)\n",
        "    domain_trust = 60  # Replace with actual API call\n",
        "\n",
        "    # Step 3: Content Relevance (Semantic Similarity)\n",
        "    model = SentenceTransformer('sentence-transformers/all-mpnet-base-v2')\n",
        "    similarity_score = util.pytorch_cos_sim(\n",
        "        model.encode(user_query),\n",
        "        model.encode(page_text)\n",
        "    ).item() * 10\n",
        "\n",
        "    # Step 4: Fact-Checking (Google Fact Check API)\n",
        "    fact_check_score = check_facts(page_text)\n",
        "\n",
        "    # Step 5: Bias Detection (Sentiment Analysis)\n",
        "    sentiment_pipeline = pipeline(\n",
        "        \"text-classification\",\n",
        "        model=\"cardiffnlp/twitter-roberta-base-sentiment\"\n",
        "    )\n",
        "    sentiment_result = sentiment_pipeline(page_text[:512])[0]\n",
        "    bias_score = 100 if sentiment_result[\"label\"] == \"POSITIVE\" else 50 if sentiment_result[\"label\"] == \"NEUTRAL\" else 30\n",
        "\n",
        "    # Step 6: Citation Check (Google Scholar via SerpAPI)\n",
        "    citation_count = check_google_scholar(url)\n",
        "    citation_score = min(citation_count * 10, 100)\n",
        "\n",
        "    # Step 7: Compute Final Score\n",
        "    final_score = (\n",
        "        (0.3 * domain_trust) +\n",
        "        (0.3 * similarity_score) +\n",
        "        (0.2 * fact_check_score) +\n",
        "        (0.1 * bias_score) +\n",
        "        (0.1 * citation_score)\n",
        "    )\n",
        "\n",
        "    return {\n",
        "        \"Domain Trust\": domain_trust,\n",
        "        \"Content Relevance\": similarity_score,\n",
        "        \"Fact-Check Score\": fact_check_score,\n",
        "        \"Bias Score\": bias_score,\n",
        "        \"Citation Score\": citation_score,\n",
        "        \"Final Validity Score\": final_score\n",
        "    }\n",
        "\n",
        "def check_facts(text: str) -> int:\n",
        "    \"\"\"Check factual accuracy using Google Fact Check API\"\"\"\n",
        "    api_url = f\"https://toolbox.google.com/factcheck/api/v1/claimsearch?query={text[:200]}\"\n",
        "    try:\n",
        "        response = requests.get(api_url)\n",
        "        data = response.json()\n",
        "        return 80 if \"claims\" in data and data[\"claims\"] else 40\n",
        "    except:\n",
        "        return 50\n",
        "\n",
        "def check_google_scholar(url: str) -> int:\n",
        "    \"\"\"Check Google Scholar citations using SerpAPI\"\"\"\n",
        "    # Replace with your SerpAPI key\n",
        "    serpapi_key = \"SERPAPI_API_KEY\"\n",
        "    params = {\"q\": url, \"engine\": \"google_scholar\", \"api_key\": serpapi_key}\n",
        "    try:\n",
        "        response = requests.get(\"https://serpapi.com/search\", params=params)\n",
        "        data = response.json()\n",
        "        return len(data.get(\"organic_results\", []))\n",
        "    except:\n",
        "        return -1\n",
        "\n",
        "if __name__ == \"__main__\":\n",
        "    # Example usage\n",
        "    queries = [\n",
        "        (\"I have just been on an international flight, can I come back home to hold my 1-month-old newborn?\",\n",
        "         \"https://www.bhtp.com/blog/when-safe-to-travel-with-newborn/\"),\n",
        "\n",
        "        (\"I have just been on an international flight, can I come back home to hold my 1-month-old newborn?\",\n",
        "         \"https://www.quora.com/How-soon-can-I-take-my-newborn-with-me-when-I-fly-internationally\"),\n",
        "\n",
        "        (\"I have just been on an international flight, can I come back home to hold my 1-month-old newborn?\",\n",
        "         \"https://www.mayoclinic.org/healthy-lifestyle/infant-and-toddler-health/expert-answers/air-travel-with-infant/faq-20058539\")\n",
        "    ]\n",
        "\n",
        "    for query, url in queries:\n",
        "        print(f\"\\nChecking URL: {url}\")\n",
        "        result = rate_url_validity(query, url)\n",
        "        for k, v in result.items():\n",
        "            print(f\"{k}: {v:.2f}\" if isinstance(v, float) else f\"{k}: {v}\")"
      ],
      "metadata": {
        "colab": {
          "base_uri": "https://localhost:8080/",
          "height": 0
        },
        "id": "lUh4Sq9m7klF",
        "outputId": "982dbb14-ff5d-4231-ae97-11a7f60d141a"
      },
      "execution_count": 26,
      "outputs": [
        {
          "output_type": "stream",
          "name": "stdout",
          "text": [
            "Requirement already satisfied: requests in /usr/local/lib/python3.11/dist-packages (2.32.3)\n",
            "Requirement already satisfied: beautifulsoup4 in /usr/local/lib/python3.11/dist-packages (4.13.3)\n",
            "Requirement already satisfied: sentence-transformers in /usr/local/lib/python3.11/dist-packages (3.4.1)\n",
            "Requirement already satisfied: transformers in /usr/local/lib/python3.11/dist-packages (4.48.3)\n",
            "Requirement already satisfied: charset-normalizer<4,>=2 in /usr/local/lib/python3.11/dist-packages (from requests) (3.4.1)\n",
            "Requirement already satisfied: idna<4,>=2.5 in /usr/local/lib/python3.11/dist-packages (from requests) (3.10)\n",
            "Requirement already satisfied: urllib3<3,>=1.21.1 in /usr/local/lib/python3.11/dist-packages (from requests) (2.3.0)\n",
            "Requirement already satisfied: certifi>=2017.4.17 in /usr/local/lib/python3.11/dist-packages (from requests) (2025.1.31)\n",
            "Requirement already satisfied: soupsieve>1.2 in /usr/local/lib/python3.11/dist-packages (from beautifulsoup4) (2.6)\n",
            "Requirement already satisfied: typing-extensions>=4.0.0 in /usr/local/lib/python3.11/dist-packages (from beautifulsoup4) (4.12.2)\n",
            "Requirement already satisfied: tqdm in /usr/local/lib/python3.11/dist-packages (from sentence-transformers) (4.67.1)\n",
            "Requirement already satisfied: torch>=1.11.0 in /usr/local/lib/python3.11/dist-packages (from sentence-transformers) (2.5.1+cu124)\n",
            "Requirement already satisfied: scikit-learn in /usr/local/lib/python3.11/dist-packages (from sentence-transformers) (1.6.1)\n",
            "Requirement already satisfied: scipy in /usr/local/lib/python3.11/dist-packages (from sentence-transformers) (1.13.1)\n",
            "Requirement already satisfied: huggingface-hub>=0.20.0 in /usr/local/lib/python3.11/dist-packages (from sentence-transformers) (0.28.1)\n",
            "Requirement already satisfied: Pillow in /usr/local/lib/python3.11/dist-packages (from sentence-transformers) (11.1.0)\n",
            "Requirement already satisfied: filelock in /usr/local/lib/python3.11/dist-packages (from transformers) (3.17.0)\n",
            "Requirement already satisfied: numpy>=1.17 in /usr/local/lib/python3.11/dist-packages (from transformers) (1.26.4)\n",
            "Requirement already satisfied: packaging>=20.0 in /usr/local/lib/python3.11/dist-packages (from transformers) (24.2)\n",
            "Requirement already satisfied: pyyaml>=5.1 in /usr/local/lib/python3.11/dist-packages (from transformers) (6.0.2)\n",
            "Requirement already satisfied: regex!=2019.12.17 in /usr/local/lib/python3.11/dist-packages (from transformers) (2024.11.6)\n",
            "Requirement already satisfied: tokenizers<0.22,>=0.21 in /usr/local/lib/python3.11/dist-packages (from transformers) (0.21.0)\n",
            "Requirement already satisfied: safetensors>=0.4.1 in /usr/local/lib/python3.11/dist-packages (from transformers) (0.5.2)\n",
            "Requirement already satisfied: fsspec>=2023.5.0 in /usr/local/lib/python3.11/dist-packages (from huggingface-hub>=0.20.0->sentence-transformers) (2024.10.0)\n",
            "Requirement already satisfied: networkx in /usr/local/lib/python3.11/dist-packages (from torch>=1.11.0->sentence-transformers) (3.4.2)\n",
            "Requirement already satisfied: jinja2 in /usr/local/lib/python3.11/dist-packages (from torch>=1.11.0->sentence-transformers) (3.1.5)\n",
            "Requirement already satisfied: nvidia-cuda-nvrtc-cu12==12.4.127 in /usr/local/lib/python3.11/dist-packages (from torch>=1.11.0->sentence-transformers) (12.4.127)\n",
            "Requirement already satisfied: nvidia-cuda-runtime-cu12==12.4.127 in /usr/local/lib/python3.11/dist-packages (from torch>=1.11.0->sentence-transformers) (12.4.127)\n",
            "Requirement already satisfied: nvidia-cuda-cupti-cu12==12.4.127 in /usr/local/lib/python3.11/dist-packages (from torch>=1.11.0->sentence-transformers) (12.4.127)\n",
            "Requirement already satisfied: nvidia-cudnn-cu12==9.1.0.70 in /usr/local/lib/python3.11/dist-packages (from torch>=1.11.0->sentence-transformers) (9.1.0.70)\n",
            "Requirement already satisfied: nvidia-cublas-cu12==12.4.5.8 in /usr/local/lib/python3.11/dist-packages (from torch>=1.11.0->sentence-transformers) (12.4.5.8)\n",
            "Requirement already satisfied: nvidia-cufft-cu12==11.2.1.3 in /usr/local/lib/python3.11/dist-packages (from torch>=1.11.0->sentence-transformers) (11.2.1.3)\n",
            "Requirement already satisfied: nvidia-curand-cu12==10.3.5.147 in /usr/local/lib/python3.11/dist-packages (from torch>=1.11.0->sentence-transformers) (10.3.5.147)\n",
            "Requirement already satisfied: nvidia-cusolver-cu12==11.6.1.9 in /usr/local/lib/python3.11/dist-packages (from torch>=1.11.0->sentence-transformers) (11.6.1.9)\n",
            "Requirement already satisfied: nvidia-cusparse-cu12==12.3.1.170 in /usr/local/lib/python3.11/dist-packages (from torch>=1.11.0->sentence-transformers) (12.3.1.170)\n",
            "Requirement already satisfied: nvidia-nccl-cu12==2.21.5 in /usr/local/lib/python3.11/dist-packages (from torch>=1.11.0->sentence-transformers) (2.21.5)\n",
            "Requirement already satisfied: nvidia-nvtx-cu12==12.4.127 in /usr/local/lib/python3.11/dist-packages (from torch>=1.11.0->sentence-transformers) (12.4.127)\n",
            "Requirement already satisfied: nvidia-nvjitlink-cu12==12.4.127 in /usr/local/lib/python3.11/dist-packages (from torch>=1.11.0->sentence-transformers) (12.4.127)\n",
            "Requirement already satisfied: triton==3.1.0 in /usr/local/lib/python3.11/dist-packages (from torch>=1.11.0->sentence-transformers) (3.1.0)\n",
            "Requirement already satisfied: sympy==1.13.1 in /usr/local/lib/python3.11/dist-packages (from torch>=1.11.0->sentence-transformers) (1.13.1)\n",
            "Requirement already satisfied: mpmath<1.4,>=1.1.0 in /usr/local/lib/python3.11/dist-packages (from sympy==1.13.1->torch>=1.11.0->sentence-transformers) (1.3.0)\n",
            "Requirement already satisfied: joblib>=1.2.0 in /usr/local/lib/python3.11/dist-packages (from scikit-learn->sentence-transformers) (1.4.2)\n",
            "Requirement already satisfied: threadpoolctl>=3.1.0 in /usr/local/lib/python3.11/dist-packages (from scikit-learn->sentence-transformers) (3.5.0)\n",
            "Requirement already satisfied: MarkupSafe>=2.0 in /usr/local/lib/python3.11/dist-packages (from jinja2->torch>=1.11.0->sentence-transformers) (3.0.2)\n",
            "\n",
            "Checking URL: https://www.bhtp.com/blog/when-safe-to-travel-with-newborn/\n"
          ]
        },
        {
          "output_type": "stream",
          "name": "stderr",
          "text": [
            "Device set to use cuda:0\n"
          ]
        },
        {
          "output_type": "stream",
          "name": "stdout",
          "text": [
            "Domain Trust: 60\n",
            "Content Relevance: 5.69\n",
            "Fact-Check Score: 50\n",
            "Bias Score: 30\n",
            "Citation Score: 0\n",
            "Final Validity Score: 32.71\n",
            "\n",
            "Checking URL: https://www.quora.com/How-soon-can-I-take-my-newborn-with-me-when-I-fly-internationally\n"
          ]
        },
        {
          "output_type": "stream",
          "name": "stderr",
          "text": [
            "Device set to use cuda:0\n"
          ]
        },
        {
          "output_type": "stream",
          "name": "stdout",
          "text": [
            "Domain Trust: 60\n",
            "Content Relevance: -0.44\n",
            "Fact-Check Score: 50\n",
            "Bias Score: 30\n",
            "Citation Score: 0\n",
            "Final Validity Score: 30.87\n",
            "\n",
            "Checking URL: https://www.mayoclinic.org/healthy-lifestyle/infant-and-toddler-health/expert-answers/air-travel-with-infant/faq-20058539\n"
          ]
        },
        {
          "output_type": "stream",
          "name": "stderr",
          "text": [
            "Device set to use cuda:0\n"
          ]
        },
        {
          "output_type": "stream",
          "name": "stdout",
          "text": [
            "Domain Trust: 60\n",
            "Content Relevance: 6.61\n",
            "Fact-Check Score: 50\n",
            "Bias Score: 30\n",
            "Citation Score: 0\n",
            "Final Validity Score: 32.98\n"
          ]
        }
      ]
    },
    {
      "cell_type": "markdown",
      "source": [
        "# New Section"
      ],
      "metadata": {
        "id": "M0tuajUQV9Mj"
      }
    },
    {
      "cell_type": "code",
      "source": [
        "\n",
        "user_prompt = \"How will AI impact the job market in the next 10 years?\"\n",
        "url_to_check = \"https://www.nexford.edu/insights/how-will-ai-affect-jobs\"\n",
        "\n",
        "result = rate_url_validity(user_prompt, url_to_check)\n",
        "print(result)"
      ],
      "metadata": {
        "colab": {
          "base_uri": "https://localhost:8080/",
          "height": 0
        },
        "id": "wdhWQGOZ-la7",
        "outputId": "4aec6604-c3d8-4e8d-935c-0f3aaaee6ad3"
      },
      "execution_count": 34,
      "outputs": [
        {
          "output_type": "stream",
          "name": "stderr",
          "text": [
            "Device set to use cuda:0\n"
          ]
        },
        {
          "output_type": "stream",
          "name": "stdout",
          "text": [
            "{'URL': 'https://www.nexford.edu/insights/how-will-ai-affect-jobs', 'Domain Trust (out of 5)': 3.0, 'Content Relevance (out of 5)': 4.17, 'Fact-Check Score (out of 5)': 2.5, 'Bias Score (out of 5)': 1, 'Citation Score (out of 5)': 2.0, 'Final Validity Score (out of 5)': 2.95}\n"
          ]
        }
      ]
    },
    {
      "cell_type": "code",
      "source": [
        "\n",
        "user_prompt = \"bitcoin price\"\n",
        "url_to_check = \"https://www.tradingview.com/symbols/BTCUSD/\"\n",
        "\n",
        "result = rate_url_validity(user_prompt, url_to_check)\n",
        "print(result)"
      ],
      "metadata": {
        "colab": {
          "base_uri": "https://localhost:8080/",
          "height": 0
        },
        "id": "xDwHNqH4Dfil",
        "outputId": "d184028f-59ba-459f-c4d6-973f5c65f063"
      },
      "execution_count": 28,
      "outputs": [
        {
          "output_type": "stream",
          "name": "stderr",
          "text": [
            "Device set to use cuda:0\n"
          ]
        },
        {
          "output_type": "stream",
          "name": "stdout",
          "text": [
            "{'Domain Trust': 60, 'Content Relevance': 1.3244432210922241, 'Fact-Check Score': 50, 'Bias Score': 30, 'Citation Score': 0, 'Final Validity Score': 31.397332966327667}\n"
          ]
        }
      ]
    },
    {
      "cell_type": "code",
      "source": [
        "import requests\n",
        "!pip install ace tools\n",
        "from bs4 import BeautifulSoup\n",
        "from sentence_transformers import SentenceTransformer, util\n",
        "from transformers import pipeline\n",
        "\n",
        "def summarize_text(text: str) -> str:\n",
        "    \"\"\"\n",
        "    Summarizes the given text using a transformer-based summarization model.\n",
        "\n",
        "    Args:\n",
        "        text (str): The text to summarize.\n",
        "\n",
        "    Returns:\n",
        "        str: A summarized version of the text.\n",
        "    \"\"\"\n",
        "    summarizer = pipeline(\"summarization\")\n",
        "    summary = summarizer(text[:1000], max_length=150, min_length=50, do_sample=False)\n",
        "    return summary[0][\"summary_text\"]\n",
        "\n",
        "def rate_url_validity(user_query: str, url: str) -> dict:\n",
        "    \"\"\"\n",
        "    Evaluates the validity of a given URL by computing various metrics including\n",
        "    domain trust, content relevance, fact-checking, bias, and citation scores.\n",
        "\n",
        "    Args:\n",
        "        user_query (str): The user's original query\n",
        "        url (str): The URL to analyze\n",
        "\n",
        "    Returns:\n",
        "        dict: A dictionary containing scores (out of 5) for different validity aspects\n",
        "    \"\"\"\n",
        "\n",
        "    # Step 1: Fetch Page Content\n",
        "    try:\n",
        "        response = requests.get(url, timeout=10)\n",
        "        response.raise_for_status()\n",
        "        soup = BeautifulSoup(response.text, \"html.parser\")\n",
        "        page_text = \" \".join([p.text for p in soup.find_all(\"p\")])\n",
        "    except Exception as e:\n",
        "        return {\"URL\": url, \"error\": f\"Failed to fetch content: {str(e)}\"}\n",
        "\n",
        "    # Step 2: Domain Authority Check (Placeholder - Replace with Moz API)\n",
        "    domain_trust = 3.0  # Placeholder score out of 5\n",
        "\n",
        "    # Step 3: Content Relevance (Semantic Similarity)\n",
        "    model = SentenceTransformer('sentence-transformers/all-mpnet-base-v2')\n",
        "    similarity_score = util.pytorch_cos_sim(\n",
        "        model.encode(user_query),\n",
        "        model.encode(page_text)\n",
        "    ).item()\n",
        "    similarity_score = min(similarity_score * 5, 5)  # Scale to 5\n",
        "\n",
        "    # Step 4: Fact-Checking (Placeholder Score)\n",
        "    fact_check_score = 2.5  # Placeholder fact-checking score out of 5\n",
        "\n",
        "    # Step 5: Bias Detection (Sentiment Analysis)\n",
        "    sentiment_pipeline = pipeline(\n",
        "        \"text-classification\",\n",
        "        model=\"cardiffnlp/twitter-roberta-base-sentiment\"\n",
        "    )\n",
        "    sentiment_result = sentiment_pipeline(page_text[:512])[0]\n",
        "    bias_score = 5 if sentiment_result[\"label\"] == \"POSITIVE\" else 3 if sentiment_result[\"label\"] == \"NEUTRAL\" else 1\n",
        "\n",
        "    # Step 6: Citation Check (Placeholder Score)\n",
        "    citation_score = 2.0  # Placeholder citation score out of 5\n",
        "\n",
        "    # Step 7: Compute Final Score (Weighted Average)\n",
        "    final_score = (\n",
        "        (0.3 * domain_trust) +\n",
        "        (0.3 * similarity_score) +\n",
        "        (0.2 * fact_check_score) +\n",
        "        (0.1 * bias_score) +\n",
        "        (0.1 * citation_score)\n",
        "    )\n",
        "\n",
        "    # Step 8: Generate a Summary of the Webpage Content\n",
        "    summary = summarize_text(page_text)\n",
        "\n",
        "    return {\n",
        "        \"URL\": url,\n",
        "        \"Domain Trust (out of 5)\": round(domain_trust, 2),\n",
        "        \"Content Relevance (out of 5)\": round(similarity_score, 2),\n",
        "        \"Fact-Check Score (out of 5)\": round(fact_check_score, 2),\n",
        "        \"Bias Score (out of 5)\": round(bias_score, 2),\n",
        "        \"Citation Score (out of 5)\": round(citation_score, 2),\n",
        "        \"Final Validity Score (out of 5)\": round(final_score, 2),\n",
        "        \"Summary\": summary\n",
        "    }\n",
        "\n",
        "# Example usage with trending search prompts\n",
        "queries = [\n",
        "    (\"nvidia stock\", \"https://www.google.com/search?q=nvidia+stock+price\"),\n",
        "    (\"bitcoin price\", \"https://www.google.com/search?q=bitcoin+price\"),\n",
        "    (\"AI latest trends\", \"https://www.google.com/search?q=AI+latest+trends\"),\n",
        "]\n",
        "\n",
        "# Running the script for all queries\n",
        "results = []\n",
        "for query, url in queries:\n",
        "    result = rate_url_validity(query, url)\n",
        "    results.append(result)\n",
        "\n",
        "# Displaying results\n",
        "import pandas as pd\n",
        "import ace_tools as tools\n",
        "df = pd.DataFrame(results)\n",
        "tools.display_dataframe_to_user(name=\"URL Validity Scores with Summaries\", dataframe=df)\n"
      ],
      "metadata": {
        "colab": {
          "base_uri": "https://localhost:8080/",
          "height": 1134
        },
        "id": "J3JZkPCsFRXN",
        "outputId": "a1adb358-4528-4b8a-918c-5f07be726614"
      },
      "execution_count": 36,
      "outputs": [
        {
          "output_type": "stream",
          "name": "stdout",
          "text": [
            "Collecting ace\n",
            "  Downloading ace-0.3.3-py3-none-any.whl.metadata (7.8 kB)\n",
            "Collecting tools\n",
            "  Downloading tools-0.1.9.tar.gz (34 kB)\n",
            "  Preparing metadata (setup.py) ... \u001b[?25l\u001b[?25hdone\n",
            "Requirement already satisfied: numpy in /usr/local/lib/python3.11/dist-packages (from ace) (1.26.4)\n",
            "Requirement already satisfied: scipy>=0.17 in /usr/local/lib/python3.11/dist-packages (from ace) (1.13.1)\n",
            "Collecting pytils (from tools)\n",
            "  Downloading pytils-0.4.1.tar.gz (99 kB)\n",
            "\u001b[2K     \u001b[90m━━━━━━━━━━━━━━━━━━━━━━━━━━━━━━━━━━━━━━━━\u001b[0m \u001b[32m99.1/99.1 kB\u001b[0m \u001b[31m10.7 MB/s\u001b[0m eta \u001b[36m0:00:00\u001b[0m\n",
            "\u001b[?25h  Installing build dependencies ... \u001b[?25l\u001b[?25hdone\n",
            "  Getting requirements to build wheel ... \u001b[?25l\u001b[?25hdone\n",
            "  Preparing metadata (pyproject.toml) ... \u001b[?25l\u001b[?25hdone\n",
            "Requirement already satisfied: six in /usr/local/lib/python3.11/dist-packages (from tools) (1.17.0)\n",
            "Requirement already satisfied: lxml in /usr/local/lib/python3.11/dist-packages (from tools) (5.3.1)\n",
            "Downloading ace-0.3.3-py3-none-any.whl (23 kB)\n",
            "Building wheels for collected packages: tools, pytils\n",
            "  Building wheel for tools (setup.py) ... \u001b[?25l\u001b[?25hdone\n",
            "  Created wheel for tools: filename=tools-0.1.9-py3-none-any.whl size=46729 sha256=0aee8ea4ea13ccebb2db4ab4fcca650a9ad05c66c6dce29c99bd8be468378163\n",
            "  Stored in directory: /root/.cache/pip/wheels/bc/d8/9d/52ad6058db295741fe0b776c0fcfdb6670036acab59ce4ccfd\n",
            "  Building wheel for pytils (pyproject.toml) ... \u001b[?25l\u001b[?25hdone\n",
            "  Created wheel for pytils: filename=pytils-0.4.1-py3-none-any.whl size=32876 sha256=6c91f09b6ce2ea8a350a6bd337add264284f1bc078b0a5d97e25cf93de985475\n",
            "  Stored in directory: /root/.cache/pip/wheels/66/b9/15/482258065bee884b0d43bdc24b424e2cc6bde530e8e1380657\n",
            "Successfully built tools pytils\n",
            "Installing collected packages: pytils, tools, ace\n",
            "Successfully installed ace-0.3.3 pytils-0.4.1 tools-0.1.9\n"
          ]
        },
        {
          "output_type": "stream",
          "name": "stderr",
          "text": [
            "Device set to use cuda:0\n",
            "No model was supplied, defaulted to sshleifer/distilbart-cnn-12-6 and revision a4f8f3e (https://huggingface.co/sshleifer/distilbart-cnn-12-6).\n",
            "Using a pipeline without specifying a model name and revision in production is not recommended.\n",
            "Device set to use cuda:0\n",
            "Your max_length is set to 150, but your input_length is only 3. Since this is a summarization task, where outputs shorter than the input are typically wanted, you might consider decreasing max_length manually, e.g. summarizer('...', max_length=1)\n",
            "Device set to use cuda:0\n",
            "No model was supplied, defaulted to sshleifer/distilbart-cnn-12-6 and revision a4f8f3e (https://huggingface.co/sshleifer/distilbart-cnn-12-6).\n",
            "Using a pipeline without specifying a model name and revision in production is not recommended.\n",
            "Device set to use cuda:0\n",
            "Your max_length is set to 150, but your input_length is only 3. Since this is a summarization task, where outputs shorter than the input are typically wanted, you might consider decreasing max_length manually, e.g. summarizer('...', max_length=1)\n",
            "Device set to use cuda:0\n",
            "No model was supplied, defaulted to sshleifer/distilbart-cnn-12-6 and revision a4f8f3e (https://huggingface.co/sshleifer/distilbart-cnn-12-6).\n",
            "Using a pipeline without specifying a model name and revision in production is not recommended.\n",
            "Device set to use cuda:0\n",
            "Your max_length is set to 150, but your input_length is only 3. Since this is a summarization task, where outputs shorter than the input are typically wanted, you might consider decreasing max_length manually, e.g. summarizer('...', max_length=1)\n"
          ]
        },
        {
          "output_type": "error",
          "ename": "ModuleNotFoundError",
          "evalue": "No module named 'ace_tools'",
          "traceback": [
            "\u001b[0;31m---------------------------------------------------------------------------\u001b[0m",
            "\u001b[0;31mModuleNotFoundError\u001b[0m                       Traceback (most recent call last)",
            "\u001b[0;32m<ipython-input-36-7b7273f9e02e>\u001b[0m in \u001b[0;36m<cell line: 0>\u001b[0;34m()\u001b[0m\n\u001b[1;32m    104\u001b[0m \u001b[0;31m# Displaying results\u001b[0m\u001b[0;34m\u001b[0m\u001b[0;34m\u001b[0m\u001b[0m\n\u001b[1;32m    105\u001b[0m \u001b[0;32mimport\u001b[0m \u001b[0mpandas\u001b[0m \u001b[0;32mas\u001b[0m \u001b[0mpd\u001b[0m\u001b[0;34m\u001b[0m\u001b[0;34m\u001b[0m\u001b[0m\n\u001b[0;32m--> 106\u001b[0;31m \u001b[0;32mimport\u001b[0m \u001b[0mace_tools\u001b[0m \u001b[0;32mas\u001b[0m \u001b[0mtools\u001b[0m\u001b[0;34m\u001b[0m\u001b[0;34m\u001b[0m\u001b[0m\n\u001b[0m\u001b[1;32m    107\u001b[0m \u001b[0mdf\u001b[0m \u001b[0;34m=\u001b[0m \u001b[0mpd\u001b[0m\u001b[0;34m.\u001b[0m\u001b[0mDataFrame\u001b[0m\u001b[0;34m(\u001b[0m\u001b[0mresults\u001b[0m\u001b[0;34m)\u001b[0m\u001b[0;34m\u001b[0m\u001b[0;34m\u001b[0m\u001b[0m\n\u001b[1;32m    108\u001b[0m \u001b[0mtools\u001b[0m\u001b[0;34m.\u001b[0m\u001b[0mdisplay_dataframe_to_user\u001b[0m\u001b[0;34m(\u001b[0m\u001b[0mname\u001b[0m\u001b[0;34m=\u001b[0m\u001b[0;34m\"URL Validity Scores with Summaries\"\u001b[0m\u001b[0;34m,\u001b[0m \u001b[0mdataframe\u001b[0m\u001b[0;34m=\u001b[0m\u001b[0mdf\u001b[0m\u001b[0;34m)\u001b[0m\u001b[0;34m\u001b[0m\u001b[0;34m\u001b[0m\u001b[0m\n",
            "\u001b[0;31mModuleNotFoundError\u001b[0m: No module named 'ace_tools'",
            "",
            "\u001b[0;31m---------------------------------------------------------------------------\u001b[0;32m\nNOTE: If your import is failing due to a missing package, you can\nmanually install dependencies using either !pip or !apt.\n\nTo view examples of installing some common dependencies, click the\n\"Open Examples\" button below.\n\u001b[0;31m---------------------------------------------------------------------------\u001b[0m\n"
          ],
          "errorDetails": {
            "actions": [
              {
                "action": "open_url",
                "actionText": "Open Examples",
                "url": "/notebooks/snippets/importing_libraries.ipynb"
              }
            ]
          }
        }
      ]
    },
    {
      "cell_type": "code",
      "source": [],
      "metadata": {
        "id": "NNLC4MttPKQa"
      },
      "execution_count": null,
      "outputs": []
    },
    {
      "cell_type": "code",
      "source": [
        "import matplotlib.pyplot as plt\n",
        "\n",
        "# Define the validity components and their sample scores\n",
        "components = [\n",
        "    \"Domain Trust\", \"Content Relevance\", \"Fact-Check Score\",\n",
        "    \"Bias Score\", \"Citation Score\", \"Final Validity Score\"\n",
        "]\n",
        "scores = [60, 75, 80, 50, 40, 65]  # Example scores for visualization\n",
        "\n",
        "# Create a bar chart\n",
        "plt.figure(figsize=(10, 5))\n",
        "plt.barh(components, scores, color=['blue', 'green', 'red', 'orange', 'purple', 'black'])\n",
        "\n",
        "# Add labels and title\n",
        "plt.xlabel(\"Scores (out of 100)\")\n",
        "plt.ylabel(\"Validity Components\")\n",
        "plt.title(\"URL Validity Assessment\")\n",
        "\n",
        "# Show the plot\n",
        "plt.gca().invert_yaxis()  # Invert the y-axis for better readability\n",
        "plt.show()\n"
      ],
      "metadata": {
        "colab": {
          "base_uri": "https://localhost:8080/",
          "height": 460
        },
        "id": "hNkynvgOmPTx",
        "outputId": "bf08e9dd-929d-40d3-9229-c42b411719ba"
      },
      "execution_count": 20,
      "outputs": [
        {
          "output_type": "display_data",
          "data": {
            "text/plain": [
              "<Figure size 1000x500 with 1 Axes>"
            ],
            "image/png": "[encoded data removed]"
          },
          "metadata": {}
        }
      ]
    },
    {
      "cell_type": "code",
      "source": [
        "prompts_and_urls = [\n",
        "    (\"nvidia stock\", \"https://www.google.com/search?q=nvidia+stock+price\"),\n",
        "    (\"bitcoin price\", \"https://www.google.com/search?q=bitcoin+price\"),\n",
        "    (\"AI latest trends\", \"https://www.google.com/search?q=AI+latest+trends\"),\n",
        "    (\"best electric cars 2025\", \"https://www.google.com/search?q=best+electric+cars+2025\"),\n",
        "    (\"apple vision pro reviews\", \"https://www.google.com/search?q=apple+vision+pro+reviews\"),\n",
        "    (\"top 10 programming languages\", \"https://www.google.com/search?q=top+10+programming+languages\"),\n",
        "    (\"latest space discoveries\", \"https://www.google.com/search?q=latest+space+discoveries\"),\n",
        "    (\"how to invest in stocks\", \"https://www.google.com/search?q=how+to+invest+in+stocks\"),\n",
        "    (\"best AI tools 2025\", \"https://www.google.com/search?q=best+AI+tools+2025\"),\n",
        "    (\"next iPhone release date\", \"https://www.google.com/search?q=next+iPhone+release+date\"),\n",
        "    (\"best gaming laptops\", \"https://www.google.com/search?q=best+gaming+laptops\"),\n",
        "    (\"latest climate change news\", \"https://www.google.com/search?q=latest+climate+change+news\"),\n",
        "    (\"cryptocurrency predictions\", \"https://www.google.com/search?q=cryptocurrency+predictions\"),\n",
        "    (\"most popular Netflix shows\", \"https://www.google.com/search?q=most+popular+Netflix+shows\"),\n",
        "    (\"best travel destinations 2025\", \"https://www.google.com/search?q=best+travel+destinations+2025\"),\n",
        "    (\"how to start a business\", \"https://www.google.com/search?q=how+to+start+a+business\"),\n",
        "    (\"latest in quantum computing\", \"https://www.google.com/search?q=latest+in+quantum+computing\"),\n",
        "    (\"top AI startups\", \"https://www.google.com/search?q=top+AI+startups\"),\n",
        "    (\"best smart home gadgets\", \"https://www.google.com/search?q=best+smart+home+gadgets\"),\n",
        "    (\"future of electric vehicles\", \"https://www.google.com/search?q=future+of+electric+vehicles\"),\n",
        "]\n",
        "\n",
        "def rate_url_validity(prompt, url):\n",
        "    return f\"Checking validity for: {prompt} -> {url}\"\n",
        "\n",
        "for user_prompt, url_to_check in prompts_and_urls:\n",
        "    result = rate_url_validity(user_prompt, url_to_check)\n",
        "    print(result)\n"
      ],
      "metadata": {
        "id": "3yDQ8UPvmUsr",
        "outputId": "2faf5ad0-b4ad-425e-a6c0-a06b32fffa81",
        "colab": {
          "base_uri": "https://localhost:8080/",
          "height": 0
        }
      },
      "execution_count": 21,
      "outputs": [
        {
          "output_type": "stream",
          "name": "stdout",
          "text": [
            "Checking validity for: nvidia stock -> https://www.google.com/search?q=nvidia+stock+price\n",
            "Checking validity for: bitcoin price -> https://www.google.com/search?q=bitcoin+price\n",
            "Checking validity for: AI latest trends -> https://www.google.com/search?q=AI+latest+trends\n",
            "Checking validity for: best electric cars 2025 -> https://www.google.com/search?q=best+electric+cars+2025\n",
            "Checking validity for: apple vision pro reviews -> https://www.google.com/search?q=apple+vision+pro+reviews\n",
            "Checking validity for: top 10 programming languages -> https://www.google.com/search?q=top+10+programming+languages\n",
            "Checking validity for: latest space discoveries -> https://www.google.com/search?q=latest+space+discoveries\n",
            "Checking validity for: how to invest in stocks -> https://www.google.com/search?q=how+to+invest+in+stocks\n",
            "Checking validity for: best AI tools 2025 -> https://www.google.com/search?q=best+AI+tools+2025\n",
            "Checking validity for: next iPhone release date -> https://www.google.com/search?q=next+iPhone+release+date\n",
            "Checking validity for: best gaming laptops -> https://www.google.com/search?q=best+gaming+laptops\n",
            "Checking validity for: latest climate change news -> https://www.google.com/search?q=latest+climate+change+news\n",
            "Checking validity for: cryptocurrency predictions -> https://www.google.com/search?q=cryptocurrency+predictions\n",
            "Checking validity for: most popular Netflix shows -> https://www.google.com/search?q=most+popular+Netflix+shows\n",
            "Checking validity for: best travel destinations 2025 -> https://www.google.com/search?q=best+travel+destinations+2025\n",
            "Checking validity for: how to start a business -> https://www.google.com/search?q=how+to+start+a+business\n",
            "Checking validity for: latest in quantum computing -> https://www.google.com/search?q=latest+in+quantum+computing\n",
            "Checking validity for: top AI startups -> https://www.google.com/search?q=top+AI+startups\n",
            "Checking validity for: best smart home gadgets -> https://www.google.com/search?q=best+smart+home+gadgets\n",
            "Checking validity for: future of electric vehicles -> https://www.google.com/search?q=future+of+electric+vehicles\n"
          ]
        }
      ]
    },
    {
      "cell_type": "code",
      "source": [],
      "metadata": {
        "id": "pLhajo4UmYi2"
      },
      "execution_count": null,
      "outputs": []
    },
    {
      "cell_type": "code",
      "source": [
        "import requests\n",
        "\n",
        "prompts_and_urls = [\n",
        "    (\"nvidia stock\", \"https://www.google.com/search?q=nvidia+stock+price\"),\n",
        "    (\"bitcoin price\", \"https://www.google.com/search?q=bitcoin+price\"),\n",
        "    (\"AI latest trends\", \"https://www.google.com/search?q=AI+latest+trends\"),\n",
        "    (\"best electric cars 2025\", \"https://www.google.com/search?q=best+electric+cars+2025\"),\n",
        "    (\"apple vision pro reviews\", \"https://www.google.com/search?q=apple+vision+pro+reviews\"),\n",
        "    (\"top 10 programming languages\", \"https://www.google.com/search?q=top+10+programming+languages\"),\n",
        "    (\"latest space discoveries\", \"https://www.google.com/search?q=latest+space+discoveries\"),\n",
        "    (\"how to invest in stocks\", \"https://www.google.com/search?q=how+to+invest+in+stocks\"),\n",
        "    (\"best AI tools 2025\", \"https://www.google.com/search?q=best+AI+tools+2025\"),\n",
        "    (\"next iPhone release date\", \"https://www.google.com/search?q=next+iPhone+release+date\"),\n",
        "    (\"best gaming laptops\", \"https://www.google.com/search?q=best+gaming+laptops\"),\n",
        "    (\"latest climate change news\", \"https://www.google.com/search?q=latest+climate+change+news\"),\n",
        "    (\"cryptocurrency predictions\", \"https://www.google.com/search?q=cryptocurrency+predictions\"),\n",
        "    (\"most popular Netflix shows\", \"https://www.google.com/search?q=most+popular+Netflix+shows\"),\n",
        "    (\"best travel destinations 2025\", \"https://www.google.com/search?q=best+travel+destinations+2025\"),\n",
        "    (\"how to start a business\", \"https://www.google.com/search?q=how+to+start+a+business\"),\n",
        "    (\"latest in quantum computing\", \"https://www.google.com/search?q=latest+in+quantum+computing\"),\n",
        "    (\"top AI startups\", \"https://www.google.com/search?q=top+AI+startups\"),\n",
        "    (\"best smart home gadgets\", \"https://www.google.com/search?q=best+smart+home+gadgets\"),\n",
        "    (\"future of electric vehicles\", \"https://www.google.com/search?q=future+of+electric+vehicles\"),\n",
        "]\n",
        "\n",
        "def check_url_validity(url):\n",
        "    \"\"\"Check if the URL is reachable by making a HEAD request.\"\"\"\n",
        "    try:\n",
        "        response = requests.head(url, allow_redirects=True, timeout=5)\n",
        "        if response.status_code == 200:\n",
        "            return \"Valid\"\n",
        "        else:\n",
        "            return f\"Invalid (Status Code: {response.status_code})\"\n",
        "    except requests.RequestException as e:\n",
        "        return f\"Invalid (Error: {e})\"\n",
        "\n",
        "# Checking each URL\n",
        "for user_prompt, url_to_check in prompts_and_urls:\n",
        "    validity = check_url_validity(url_to_check)\n",
        "    print(f\"Prompt: {user_prompt} -> URL: {url_to_check} -> Validity: {validity}\")\n"
      ],
      "metadata": {
        "colab": {
          "base_uri": "https://localhost:8080/",
          "height": 0
        },
        "id": "P8iutOhzxEDh",
        "outputId": "3cc35b97-b126-4402-810c-2e6b35c3a128"
      },
      "execution_count": 22,
      "outputs": [
        {
          "output_type": "stream",
          "name": "stdout",
          "text": [
            "Prompt: nvidia stock -> URL: https://www.google.com/search?q=nvidia+stock+price -> Validity: Valid\n",
            "Prompt: bitcoin price -> URL: https://www.google.com/search?q=bitcoin+price -> Validity: Valid\n",
            "Prompt: AI latest trends -> URL: https://www.google.com/search?q=AI+latest+trends -> Validity: Valid\n",
            "Prompt: best electric cars 2025 -> URL: https://www.google.com/search?q=best+electric+cars+2025 -> Validity: Valid\n",
            "Prompt: apple vision pro reviews -> URL: https://www.google.com/search?q=apple+vision+pro+reviews -> Validity: Valid\n",
            "Prompt: top 10 programming languages -> URL: https://www.google.com/search?q=top+10+programming+languages -> Validity: Valid\n",
            "Prompt: latest space discoveries -> URL: https://www.google.com/search?q=latest+space+discoveries -> Validity: Valid\n",
            "Prompt: how to invest in stocks -> URL: https://www.google.com/search?q=how+to+invest+in+stocks -> Validity: Valid\n",
            "Prompt: best AI tools 2025 -> URL: https://www.google.com/search?q=best+AI+tools+2025 -> Validity: Valid\n",
            "Prompt: next iPhone release date -> URL: https://www.google.com/search?q=next+iPhone+release+date -> Validity: Valid\n",
            "Prompt: best gaming laptops -> URL: https://www.google.com/search?q=best+gaming+laptops -> Validity: Valid\n",
            "Prompt: latest climate change news -> URL: https://www.google.com/search?q=latest+climate+change+news -> Validity: Valid\n",
            "Prompt: cryptocurrency predictions -> URL: https://www.google.com/search?q=cryptocurrency+predictions -> Validity: Valid\n",
            "Prompt: most popular Netflix shows -> URL: https://www.google.com/search?q=most+popular+Netflix+shows -> Validity: Valid\n",
            "Prompt: best travel destinations 2025 -> URL: https://www.google.com/search?q=best+travel+destinations+2025 -> Validity: Valid\n",
            "Prompt: how to start a business -> URL: https://www.google.com/search?q=how+to+start+a+business -> Validity: Valid\n",
            "Prompt: latest in quantum computing -> URL: https://www.google.com/search?q=latest+in+quantum+computing -> Validity: Valid\n",
            "Prompt: top AI startups -> URL: https://www.google.com/search?q=top+AI+startups -> Validity: Valid\n",
            "Prompt: best smart home gadgets -> URL: https://www.google.com/search?q=best+smart+home+gadgets -> Validity: Valid\n",
            "Prompt: future of electric vehicles -> URL: https://www.google.com/search?q=future+of+electric+vehicles -> Validity: Valid\n"
          ]
        }
      ]
    }
  ]
}